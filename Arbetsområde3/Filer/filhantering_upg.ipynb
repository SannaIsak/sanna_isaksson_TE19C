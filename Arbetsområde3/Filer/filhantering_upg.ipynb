{
 "metadata": {
  "language_info": {
   "codemirror_mode": {
    "name": "ipython",
    "version": 3
   },
   "file_extension": ".py",
   "mimetype": "text/x-python",
   "name": "python",
   "nbconvert_exporter": "python",
   "pygments_lexer": "ipython3",
   "version": "3.8.3-final"
  },
  "orig_nbformat": 2,
  "kernelspec": {
   "name": "python3",
   "display_name": "Python 3.8.3 64-bit (conda)",
   "metadata": {
    "interpreter": {
     "hash": "2c454fce349e452567f3e35ae8f9e55550354373e9075b73835a11dac2b8d2ac"
    }
   }
  }
 },
 "nbformat": 4,
 "nbformat_minor": 2,
 "cells": [
  {
   "cell_type": "code",
   "execution_count": 4,
   "metadata": {},
   "outputs": [],
   "source": [
    "# Uppgift 1a\n",
    "\n",
    "import random as rnd\n",
    "\n",
    "talLista = []\n",
    "\n",
    "for i in range(10):\n",
    "    x = rnd.randint(1,6)\n",
    "    talLista.append(x)\n",
    "\n",
    "with open(\"diceRoll.txt\",\"w\") as f1:\n",
    "    f1.write(f\"Simulera 10 tärningskast: {talLista}\\n\")\n",
    "\n",
    "# Uppgift 1b\n",
    "\n",
    "talLista.sort()\n",
    "\n",
    "with open(\"diceRoll.txt\", \"a\") as f1:\n",
    "    f1.write(f\"Kastet sorterat: {talLista}\\n\")\n",
    "\n",
    "# Uppgift 1c\n",
    "\n",
    "antal_femor = 0\n",
    "\n",
    "for i in range(10):\n",
    "    if talLista[i] == 5:\n",
    "        antal_femor += 1\n",
    "    \n",
    "with open(\"diceRoll.txt\", \"a\") as f1:\n",
    "    f1.write(f\"Antalet femor: {antal_femor}\")"
   ]
  },
  {
   "cell_type": "code",
   "execution_count": 5,
   "metadata": {},
   "outputs": [
    {
     "output_type": "stream",
     "name": "stdout",
     "text": [
      "ï»¿Adam Gustafsson 25\nEmil Johansson 23\nSven Erik Karlsson 13\nOve Karlsten 41\nEmma Boden 32\nIda HÃ¥kansson 23\nElla Ester 41\nHanna Karlsson 23 \nJohan Johansson 42\nSven Erik Lundin 39\nBjÃ¶rn BjÃ¶rnsson 39\nKarl Karlsson 32\nBose Bosseson 32\nHÃ¥kan HÃ¥kanson 24\nJonas Jonasson 31\nErik Eriksson 31\nGore Bord 55\nJakob Kallander 65\nFredrika Ulven 10"
     ]
    }
   ],
   "source": [
    "# Uppgift 2a\n",
    "\n",
    "with open(\"Provresultat.txt\", \"r\") as f1:\n",
    "    for rad in f1:\n",
    "        print(rad, end=\"\")"
   ]
  },
  {
   "cell_type": "code",
   "execution_count": 13,
   "metadata": {},
   "outputs": [],
   "source": [
    "# Uppgift 2b\n",
    "\n",
    "namn = []\n",
    "\n",
    "with open(\"Provresultat.txt\", \"r\") as f1, open(\"Provresultat sorterad.txt\", \"w\") as f2:\n",
    "    for rad in f1:\n",
    "        namn.append(rad)\n",
    "    \n",
    "    namn.sort()\n",
    "    \n",
    "    for i in range(len(namn)):\n",
    "        f2.write(namn[i])\n",
    "        "
   ]
  },
  {
   "cell_type": "code",
   "execution_count": 17,
   "metadata": {},
   "outputs": [
    {
     "output_type": "error",
     "ename": "TypeError",
     "evalue": "slice indices must be integers or None or have an __index__ method",
     "traceback": [
      "\u001b[1;31m---------------------------------------------------------------------------\u001b[0m",
      "\u001b[1;31mTypeError\u001b[0m                                 Traceback (most recent call last)",
      "\u001b[1;32m<ipython-input-17-99e59c7ff052>\u001b[0m in \u001b[0;36m<module>\u001b[1;34m\u001b[0m\n\u001b[0;32m     19\u001b[0m         \u001b[1;32melif\u001b[0m \u001b[1;36m40\u001b[0m \u001b[1;33m==\u001b[0m \u001b[0mint\u001b[0m\u001b[1;33m(\u001b[0m\u001b[0mrad\u001b[0m\u001b[1;33m[\u001b[0m\u001b[1;33m-\u001b[0m\u001b[1;36m3\u001b[0m\u001b[1;33m:\u001b[0m\u001b[1;33m-\u001b[0m\u001b[1;36m1\u001b[0m\u001b[1;33m]\u001b[0m\u001b[1;33m)\u001b[0m \u001b[1;33m<\u001b[0m \u001b[1;36m50\u001b[0m\u001b[1;33m:\u001b[0m\u001b[1;33m\u001b[0m\u001b[1;33m\u001b[0m\u001b[0m\n\u001b[0;32m     20\u001b[0m             \u001b[0mC\u001b[0m\u001b[1;33m.\u001b[0m\u001b[0mappend\u001b[0m\u001b[1;33m(\u001b[0m\u001b[0mrad\u001b[0m\u001b[1;33m)\u001b[0m\u001b[1;33m\u001b[0m\u001b[1;33m\u001b[0m\u001b[0m\n\u001b[1;32m---> 21\u001b[1;33m         \u001b[1;32melif\u001b[0m \u001b[1;36m50\u001b[0m \u001b[1;33m==\u001b[0m \u001b[0mint\u001b[0m\u001b[1;33m(\u001b[0m\u001b[0mrad\u001b[0m\u001b[1;33m[\u001b[0m\u001b[1;33m-\u001b[0m\u001b[1;36m3\u001b[0m\u001b[1;33m:\u001b[0m\u001b[1;36m.1\u001b[0m\u001b[1;33m]\u001b[0m\u001b[1;33m)\u001b[0m \u001b[1;33m<\u001b[0m \u001b[1;36m60\u001b[0m\u001b[1;33m:\u001b[0m\u001b[1;33m\u001b[0m\u001b[1;33m\u001b[0m\u001b[0m\n\u001b[0m\u001b[0;32m     22\u001b[0m             \u001b[0mB\u001b[0m\u001b[1;33m.\u001b[0m\u001b[0mappend\u001b[0m\u001b[1;33m(\u001b[0m\u001b[0mrad\u001b[0m\u001b[1;33m)\u001b[0m\u001b[1;33m\u001b[0m\u001b[1;33m\u001b[0m\u001b[0m\n\u001b[0;32m     23\u001b[0m         \u001b[1;32melif\u001b[0m \u001b[1;36m60\u001b[0m \u001b[1;33m==\u001b[0m \u001b[0mint\u001b[0m\u001b[1;33m(\u001b[0m\u001b[0mrad\u001b[0m\u001b[1;33m[\u001b[0m\u001b[1;33m-\u001b[0m\u001b[1;36m3\u001b[0m\u001b[1;33m:\u001b[0m\u001b[1;33m-\u001b[0m\u001b[1;36m1\u001b[0m\u001b[1;33m]\u001b[0m\u001b[1;33m)\u001b[0m \u001b[1;33m<=\u001b[0m \u001b[1;36m70\u001b[0m\u001b[1;33m:\u001b[0m\u001b[1;33m\u001b[0m\u001b[1;33m\u001b[0m\u001b[0m\n",
      "\u001b[1;31mTypeError\u001b[0m: slice indices must be integers or None or have an __index__ method"
     ]
    }
   ],
   "source": [
    "# Uppgift 2c\n",
    "\n",
    "F = []\n",
    "E = []\n",
    "D = []\n",
    "C = []\n",
    "B = []\n",
    "A = []\n",
    "\n",
    "\n",
    "with open(\"Provresultat sorterad\", \"r\") as f1, open(\"Provresultat betyg.txt\", \"w\") as f2:\n",
    "    for rad in f1:\n",
    "        if int(rad[-3:-1]) < 20:\n",
    "            F.append(rad)\n",
    "        elif 20 == int(rad[-3:-1]) < 30:\n",
    "            E.append(rad)\n",
    "        elif 30 == int(rad[-3:-1]) < 40:\n",
    "            D.append(rad)\n",
    "        elif 40 == int(rad[-3:-1]) < 50:\n",
    "            C.append(rad)\n",
    "        elif 50 == int(rad[-3:.1]) < 60:\n",
    "            B.append(rad)\n",
    "        elif 60 == int(rad[-3:-1]) <= 70:\n",
    "            A.append(rad)\n",
    "        \n",
    "    f2.write(f\"F\\n{F}\")\n",
    "    f2.write(f\"E\\n{E}\")\n",
    "    f2.write(f\"D\\n{D}\")\n",
    "    f2.write(f\"C\\n{C}\")\n",
    "    f2.write(f\"B\\n{B}\")\n",
    "    f2.write(f\"A\\n{A}\")\n"
   ]
  },
  {
   "cell_type": "code",
   "execution_count": 22,
   "metadata": {},
   "outputs": [
    {
     "output_type": "stream",
     "name": "stdout",
     "text": [
      "[1, 2, 2, 1, 1, 5, 2, 2, 2, 2]\nNone\n"
     ]
    }
   ],
   "source": [
    "import random as rnd\n",
    "\n",
    "tallista = []\n",
    "\n",
    "for i in range(10):\n",
    "    x = rnd.randint(1,6)\n",
    "    tallista.append(x)\n",
    "\n",
    "print(tallista)\n",
    "print(tallista.sort())"
   ]
  },
  {
   "cell_type": "code",
   "execution_count": null,
   "metadata": {},
   "outputs": [],
   "source": []
  }
 ]
}