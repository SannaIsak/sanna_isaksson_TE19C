{
 "metadata": {
  "language_info": {
   "codemirror_mode": {
    "name": "ipython",
    "version": 3
   },
   "file_extension": ".py",
   "mimetype": "text/x-python",
   "name": "python",
   "nbconvert_exporter": "python",
   "pygments_lexer": "ipython3",
   "version": "3.8.3-final"
  },
  "orig_nbformat": 2,
  "kernelspec": {
   "name": "python3",
   "display_name": "Python 3.8.3 64-bit ('sanna.isaksson': virtualenv)",
   "metadata": {
    "interpreter": {
     "hash": "2c454fce349e452567f3e35ae8f9e55550354373e9075b73835a11dac2b8d2ac"
    }
   }
  }
 },
 "nbformat": 4,
 "nbformat_minor": 2,
 "cells": [
  {
   "cell_type": "code",
   "execution_count": 24,
   "metadata": {},
   "outputs": [],
   "source": [
    "# Uppgift 1a\n",
    "\n",
    "import random as rnd\n",
    "\n",
    "talLista = []\n",
    "\n",
    "for i in range(10):\n",
    "    x = rnd.randint(1,6)\n",
    "    talLista.append(x)\n",
    "\n",
    "with open(\"diceRoll.txt\",\"w\") as f1:\n",
    "    f1.write(f\"Simulera 10 tärningskast: {talLista}\\n\")\n",
    "\n",
    "# Uppgift 1b\n",
    "\n",
    "talLista.sort()\n",
    "\n",
    "with open(\"diceRoll.txt\", \"a\") as f1:\n",
    "    f1.write(f\"{talLista}\")"
   ]
  },
  {
   "cell_type": "code",
   "execution_count": 17,
   "metadata": {},
   "outputs": [],
   "source": []
  },
  {
   "cell_type": "code",
   "execution_count": 22,
   "metadata": {},
   "outputs": [
    {
     "output_type": "stream",
     "name": "stdout",
     "text": [
      "[1, 2, 2, 1, 1, 5, 2, 2, 2, 2]\nNone\n"
     ]
    }
   ],
   "source": [
    "import random as rnd\n",
    "\n",
    "tallista = []\n",
    "\n",
    "for i in range(10):\n",
    "    x = rnd.randint(1,6)\n",
    "    tallista.append(x)\n",
    "\n",
    "print(tallista)\n",
    "print(tallista.sort())"
   ]
  },
  {
   "cell_type": "code",
   "execution_count": null,
   "metadata": {},
   "outputs": [],
   "source": []
  }
 ]
}