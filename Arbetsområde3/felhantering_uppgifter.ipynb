{
 "metadata": {
  "language_info": {
   "codemirror_mode": {
    "name": "ipython",
    "version": 3
   },
   "file_extension": ".py",
   "mimetype": "text/x-python",
   "name": "python",
   "nbconvert_exporter": "python",
   "pygments_lexer": "ipython3",
   "version": "3.8.3-final"
  },
  "orig_nbformat": 2,
  "kernelspec": {
   "name": "python3",
   "display_name": "Python 3",
   "language": "python"
  }
 },
 "nbformat": 4,
 "nbformat_minor": 2,
 "cells": [
  {
   "cell_type": "code",
   "execution_count": 3,
   "metadata": {},
   "outputs": [
    {
     "output_type": "stream",
     "name": "stdout",
     "text": [
      "0.7071067811865476\n"
     ]
    }
   ],
   "source": [
    "# Uppgift 1\n",
    "\n",
    "import numpy as np \n",
    "\n",
    "def distance(p1,p2):\n",
    "    return np.sqrt(p1**2+p2**2)\n",
    "\n",
    "print(distance(0.5,0.5))"
   ]
  },
  {
   "cell_type": "code",
   "execution_count": 11,
   "metadata": {},
   "outputs": [
    {
     "output_type": "stream",
     "name": "stdout",
     "text": [
      "100 är inte fyrsiffrig\n231 är inte fyrsiffrig\n10000 är inte fyrsiffrig\n10001 är inte fyrsiffrig\n-1000 är fyrsiffrig\n102313 är inte fyrsiffrig\n"
     ]
    }
   ],
   "source": [
    "# Uppgift 2\n",
    "\n",
    "def ar_fyrsiffrigt(tal):\n",
    "    if tal // 1000 < 10 and tal // 1000 > 0:\n",
    "        return True\n",
    "    elif tal // 1000 > -10 and tal // 1000 < 0:\n",
    "        return True\n",
    "    else:\n",
    "        return False\n",
    "\n",
    "# testprogram\n",
    "testtal = [100, 231, 10000, 10001, -1000, 102313]\n",
    "\n",
    "for t in testtal:\n",
    "    if ar_fyrsiffrigt(t):\n",
    "        print(f\"{t} är fyrsiffrig\")\n",
    "    else:\n",
    "        print(f\"{t} är inte fyrsiffrig\")"
   ]
  },
  {
   "cell_type": "code",
   "execution_count": null,
   "metadata": {},
   "outputs": [],
   "source": [
    "# Uppgift 3\n"
   ]
  }
 ]
}