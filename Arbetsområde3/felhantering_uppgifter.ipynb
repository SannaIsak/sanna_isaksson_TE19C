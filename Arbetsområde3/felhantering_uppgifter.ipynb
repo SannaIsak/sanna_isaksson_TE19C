{
 "metadata": {
  "language_info": {
   "codemirror_mode": {
    "name": "ipython",
    "version": 3
   },
   "file_extension": ".py",
   "mimetype": "text/x-python",
   "name": "python",
   "nbconvert_exporter": "python",
   "pygments_lexer": "ipython3",
   "version": "3.8.3-final"
  },
  "orig_nbformat": 2,
  "kernelspec": {
   "name": "python3",
   "display_name": "Python 3",
   "language": "python"
  }
 },
 "nbformat": 4,
 "nbformat_minor": 2,
 "cells": [
  {
   "cell_type": "code",
   "execution_count": 3,
   "metadata": {},
   "outputs": [
    {
     "output_type": "stream",
     "name": "stdout",
     "text": [
      "0.7071067811865476\n"
     ]
    }
   ],
   "source": [
    "# Uppgift 1\n",
    "\n",
    "import numpy as np \n",
    "\n",
    "def distance(p1,p2):\n",
    "    return np.sqrt(p1**2+p2**2)\n",
    "\n",
    "print(distance(0.5,0.5))"
   ]
  },
  {
   "cell_type": "code",
   "execution_count": 11,
   "metadata": {},
   "outputs": [
    {
     "output_type": "stream",
     "name": "stdout",
     "text": [
      "100 är inte fyrsiffrig\n231 är inte fyrsiffrig\n10000 är inte fyrsiffrig\n10001 är inte fyrsiffrig\n-1000 är fyrsiffrig\n102313 är inte fyrsiffrig\n"
     ]
    }
   ],
   "source": [
    "# Uppgift 2\n",
    "\n",
    "def ar_fyrsiffrigt(tal):\n",
    "    if tal // 1000 < 10 and tal // 1000 > 0:\n",
    "        return True\n",
    "    elif tal // 1000 > -10 and tal // 1000 < 0:\n",
    "        return True\n",
    "    else:\n",
    "        return False\n",
    "\n",
    "# testprogram\n",
    "testtal = [100, 231, 10000, 10001, -1000, 102313]\n",
    "\n",
    "for t in testtal:\n",
    "    if ar_fyrsiffrigt(t):\n",
    "        print(f\"{t} är fyrsiffrig\")\n",
    "    else:\n",
    "        print(f\"{t} är inte fyrsiffrig\")"
   ]
  },
  {
   "cell_type": "code",
   "execution_count": 7,
   "metadata": {},
   "outputs": [
    {
     "output_type": "stream",
     "name": "stdout",
     "text": [
      "Antalet gånger du vill åka språvagn ska vara ett tal inte en sträng!\n",
      "Du kan inte åka spårvagn ett negativt antal gånger, ange ett positivt heltal!\n",
      "Du tjänar mer på att köpa ett månadskort.\n"
     ]
    }
   ],
   "source": [
    "# Uppgift 3\n",
    "\n",
    "# Engångsbiljet = 34 kr\n",
    "# Månadskort = 795 kr\n",
    "\n",
    "while True:\n",
    "    try:\n",
    "        antal = int(input(\"Hur många gånger vill du åka spårvagn denna månaden?\"))\n",
    "        assert antal > 0, \"Du kan inte åka spårvagn ett negativt antal gånger, ange ett positivt heltal!\"\n",
    "        break \n",
    "    except AssertionError as msg:\n",
    "        print(msg)\n",
    "    except:\n",
    "        print(\"Antalet gånger du vill åka språvagn ska vara ett tal inte en sträng!\")\n",
    "        \n",
    "\n",
    "if antal*34 > 795:\n",
    "    print(\"Du tjänar mer på att köpa ett månadskort.\")\n",
    "else:\n",
    "    print(\"Du tjänar mer på att köpa engångsbiljeter.\")\n"
   ]
  },
  {
   "cell_type": "code",
   "execution_count": null,
   "metadata": {},
   "outputs": [],
   "source": []
  }
 ]
}