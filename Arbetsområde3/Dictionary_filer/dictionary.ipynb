{
 "metadata": {
  "language_info": {
   "codemirror_mode": {
    "name": "ipython",
    "version": 3
   },
   "file_extension": ".py",
   "mimetype": "text/x-python",
   "name": "python",
   "nbconvert_exporter": "python",
   "pygments_lexer": "ipython3",
   "version": "3.8.3-final"
  },
  "orig_nbformat": 2,
  "kernelspec": {
   "name": "python3",
   "display_name": "Python 3.8.3 64-bit ('sanna.isaksson': virtualenv)",
   "metadata": {
    "interpreter": {
     "hash": "2c454fce349e452567f3e35ae8f9e55550354373e9075b73835a11dac2b8d2ac"
    }
   }
  }
 },
 "nbformat": 4,
 "nbformat_minor": 2,
 "cells": [
  {
   "source": [
    "# Dictionary\n",
    "- key: value par\n",
    "- metafor: vanliga ordlista/lekikon"
   ],
   "cell_type": "markdown",
   "metadata": {}
  },
  {
   "cell_type": "code",
   "execution_count": 7,
   "metadata": {},
   "outputs": [
    {
     "output_type": "stream",
     "name": "stdout",
     "text": [
      "Sanna är Student och jobbar på NTI\n"
     ]
    }
   ],
   "source": [
    "# syntax för dictionary\n",
    "\n",
    "person = dict(\n",
    "    namn = \"Sanna\",\n",
    "    ålder = \"17\",\n",
    "    yrke = \"Student\",\n",
    "    arbetsplats = \"NTI\"\n",
    "\n",
    ")\n",
    "\n",
    "# åtkomstoperatorn [] för att värdena\n",
    "print(f\"{person['namn']} är {person['yrke']} och jobbar på {person['arbetsplats']}\")"
   ]
  },
  {
   "cell_type": "code",
   "execution_count": 15,
   "metadata": {},
   "outputs": [
    {
     "output_type": "stream",
     "name": "stdout",
     "text": [
      "Ord vi behöver lära oss: \ntilldela \t  ge ett värde till en variabel\ndatastruktur \t  strukturering av data\nsträng \t  sekvens av tecken\ndictionary \t  datastruktur för att spara data i key:value par\n\n\nGloslista\ntilldela \t ge ett värde till en variabel\ndatastruktur \t strukturering av data\nsträng \t sekvens av tecken\ndictionary \t datastruktur för att spara data i key:value par\n"
     ]
    }
   ],
   "source": [
    "# syntax med {}\n",
    "\n",
    "glosor = {\n",
    "    \"tilldela\":\"ge ett värde till en variabel\",\n",
    "    \"datastruktur\":\"strukturering av data\",\n",
    "    \"sträng\":\"sekvens av tecken\"\n",
    "}\n",
    "\n",
    "# lägga till ett element\n",
    "glosor[\"dictionary\"] = \"datastruktur för att spara data i key:value par\"\n",
    "\n",
    "#print(glosor[\"tilldela\"])\n",
    "#print(glosor[\"dictionary\"])\n",
    "\n",
    "print(\"Ord vi behöver lära oss: \")\n",
    "# ett sätt att loopa igenom en dictionary\n",
    "for key in glosor:\n",
    "    print(f\"{key} \\t  {glosor[key]}\")\n",
    "\n",
    "print(\"\\n\\nGloslista\")\n",
    "\n",
    "# ett annat sätt\n",
    "for key, value in glosor.items():\n",
    "    print(f\"{key} \\t {value}\")"
   ]
  },
  {
   "cell_type": "code",
   "execution_count": 23,
   "metadata": {},
   "outputs": [
    {
     "output_type": "stream",
     "name": "stdout",
     "text": [
      "Den totala mängden kurs poäng är 850\n"
     ]
    }
   ],
   "source": [
    "# Uppgift 1\n",
    "\n",
    "kurspoäng = 0\n",
    "\n",
    "kurser = {\n",
    "    \"Matematik 4\" : 100,\n",
    "    \"Webbutveckling1\" : 100,\n",
    "    \"Programmering 1\" : 100,\n",
    "    \"Dator- och nätverksteknik\" : 100,\n",
    "    \"Fysik 1a\" : 150,\n",
    "    \"Svenska 2\" : 100,\n",
    "    \"Engelska 6\" : 100,\n",
    "    \"Idrott och hälsa 1\" : 100\n",
    "}\n",
    "\n",
    "for key, value in kurser.items():\n",
    "    kurspoäng += value\n",
    "\n",
    "print(f\"Den totala mängden kurs poäng är {kurspoäng}\")"
   ]
  },
  {
   "cell_type": "code",
   "execution_count": 30,
   "metadata": {},
   "outputs": [
    {
     "output_type": "stream",
     "name": "stdout",
     "text": [
      "Frekvenstabell\n1: 16741\n2: 16753\n3: 16787\n4: 16602\n5: 16643\n6: 16474\n"
     ]
    }
   ],
   "source": [
    "# Uppgift 2\n",
    "\n",
    "import random as rnd \n",
    "\n",
    "tärningskast = {\n",
    "    \"1\" : 0,\n",
    "    \"2\" : 0,\n",
    "    \"3\" : 0,\n",
    "    \"4\" : 0,\n",
    "    \"5\" : 0,\n",
    "    \"6\" : 0\n",
    "}\n",
    "\n",
    "for i in range(100000):\n",
    "    x = rnd.randint(1,6)\n",
    "    if x == 1:\n",
    "        tärningskast[\"1\"] += 1\n",
    "    elif x == 2:\n",
    "        tärningskast[\"2\"] += 1\n",
    "    elif x == 3:\n",
    "        tärningskast[\"3\"] += 1\n",
    "    elif x == 4:\n",
    "        tärningskast[\"4\"] += 1\n",
    "    elif x == 5:\n",
    "        tärningskast[\"5\"] += 1\n",
    "    else:\n",
    "        tärningskast[\"6\"] += 1\n",
    "\n",
    "print(\"Frekvenstabell\")\n",
    "for key, value in tärningskast.items():\n",
    "    print(f\"{key}: {value}\")"
   ]
  },
  {
   "cell_type": "code",
   "execution_count": 1,
   "metadata": {},
   "outputs": [],
   "source": [
    "# Uppgift 3\n",
    "\n",
    "pokedox = {\n",
    "\n",
    "}\n",
    "\n",
    "with open(\"pokemonlista.txt\", \"r\") as f:\n",
    "    for rad in f:\n",
    "        pokedox[\"\"]\n",
    "        "
   ]
  },
  {
   "cell_type": "code",
   "execution_count": 25,
   "metadata": {},
   "outputs": [
    {
     "output_type": "stream",
     "name": "stdout",
     "text": [
      "ge ett värde till en variabeldatastruktur för att spara data i key:value par\n"
     ]
    }
   ],
   "source": [
    "glosor = {\n",
    "    \"tilldela\":\"ge ett värde till en variabel\",\n",
    "    \"datastruktur\":\"strukturering av data\",\n",
    "    \"sträng\":\"sekvens av tecken\"\n",
    "}\n",
    "\n",
    "# lägga till ett element\n",
    "glosor[\"tilldela\"] += \"datastruktur för att spara data i key:value par\"\n",
    "\n",
    "print(glosor[\"tilldela\"])"
   ]
  },
  {
   "cell_type": "code",
   "execution_count": null,
   "metadata": {},
   "outputs": [],
   "source": []
  }
 ]
}