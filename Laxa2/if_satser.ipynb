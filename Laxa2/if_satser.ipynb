{
 "metadata": {
  "language_info": {
   "codemirror_mode": {
    "name": "ipython",
    "version": 3
   },
   "file_extension": ".py",
   "mimetype": "text/x-python",
   "name": "python",
   "nbconvert_exporter": "python",
   "pygments_lexer": "ipython3",
   "version": "3.8.3-final"
  },
  "orig_nbformat": 2,
  "kernelspec": {
   "name": "python3",
   "display_name": "Python 3"
  }
 },
 "nbformat": 4,
 "nbformat_minor": 2,
 "cells": [
  {
   "cell_type": "code",
   "execution_count": 23,
   "metadata": {
    "tags": []
   },
   "outputs": [
    {
     "output_type": "stream",
     "name": "stdout",
     "text": "Talet är udda\n"
    }
   ],
   "source": [
    "# Uppgift 2 på if-satser\n",
    "tal = int(input(\"Skriv ett tal utan decimaler: \"))\n",
    "\n",
    "if tal %5==0:\n",
    "    print(\"Talet är delbart med 5\")\n",
    "elif tal %2==1:\n",
    "    print(\"Talet är udda\")\n",
    "else:\n",
    "    print(\"Talet är jämnt\")"
   ]
  },
  {
   "cell_type": "code",
   "execution_count": 24,
   "metadata": {
    "tags": []
   },
   "outputs": [
    {
     "output_type": "stream",
     "name": "stdout",
     "text": "Talet är negativt\n"
    }
   ],
   "source": [
    "# Uppgift 1 på if-satser\n",
    "tal = int(input(\"Skriv ett tal utan decimaler: \"))\n",
    "\n",
    "if tal > 0:\n",
    "    print(\"Talet är positivt\")\n",
    "elif tal < 0:\n",
    "    print(\"Talet är negativt\")\n",
    "else:\n",
    "    print(\"Talet är lika med 0\")"
   ]
  },
  {
   "cell_type": "code",
   "execution_count": 32,
   "metadata": {
    "tags": []
   },
   "outputs": [
    {
     "output_type": "stream",
     "name": "stdout",
     "text": "Det är en trubbig vinkel\n"
    }
   ],
   "source": [
    "# Uppgift 4 på if-satser\n",
    "vinkel = float(input(\"Skriven en vinkel: \"))\n",
    "\n",
    "if vinkel < 90:\n",
    "    print(\"Det är en spetsig vinkel\")\n",
    "elif vinkel == 90:\n",
    "    print(\"Det är en rät vinnkel\")\n",
    "elif 180 > vinkel > 90:\n",
    "    print(\"Det är en trubbig vinkel\")\n",
    "elif vinkel == 180:\n",
    "    priny(\"Det är en rak vinkel\")\n",
    "elif 360 > vinkel > 180:\n",
    "    print(\"Det är en konvex vinkel\")\n",
    "else:\n",
    "    print(\"Det är en hel vinkel\")"
   ]
  },
  {
   "cell_type": "code",
   "execution_count": null,
   "metadata": {},
   "outputs": [],
   "source": [
    "# Uppgift 3 på if-satser\n",
    "tal1, tal2, tal3, tal4 = int(input(\"Skriv fyra tal med ett , mellan: \"))\n",
    "\n",
    "if tal2 or tal3 or tal4 < tal1:\n",
    "    print(\"{tal1} är störst\")\n",
    "elif tal1 or tal3 or tal4 < tal2:\n",
    "    print(\"{tal2} är störst\")\n",
    "elif tal1 or tal2 or tal4 < tal3:\n",
    "    print(\"{tal3} är störst\")\n",
    "else:\n",
    "    print(\"{tal4} är störst\")"
   ]
  }
 ]
}