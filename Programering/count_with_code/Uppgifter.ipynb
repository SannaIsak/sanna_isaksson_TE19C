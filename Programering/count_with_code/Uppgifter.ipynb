{
 "metadata": {
  "language_info": {
   "codemirror_mode": {
    "name": "ipython",
    "version": 3
   },
   "file_extension": ".py",
   "mimetype": "text/x-python",
   "name": "python",
   "nbconvert_exporter": "python",
   "pygments_lexer": "ipython3",
   "version": "3.8.3-final"
  },
  "orig_nbformat": 2,
  "kernelspec": {
   "name": "python3",
   "display_name": "Python 3"
  }
 },
 "nbformat": 4,
 "nbformat_minor": 2,
 "cells": [
  {
   "cell_type": "code",
   "execution_count": 3,
   "metadata": {
    "tags": []
   },
   "outputs": [
    {
     "output_type": "stream",
     "name": "stdout",
     "text": "5\n"
    }
   ],
   "source": [
    "# Lektion 1 uppgift 1a\n",
    "print(12-7)"
   ]
  },
  {
   "cell_type": "code",
   "execution_count": 4,
   "metadata": {
    "tags": []
   },
   "outputs": [
    {
     "output_type": "stream",
     "name": "stdout",
     "text": "17.0\n"
    }
   ],
   "source": [
    "# Lektion 1 uppgift 1b\n",
    "print(24/3+9)"
   ]
  },
  {
   "cell_type": "code",
   "execution_count": 5,
   "metadata": {
    "tags": []
   },
   "outputs": [
    {
     "output_type": "stream",
     "name": "stdout",
     "text": "127\n"
    }
   ],
   "source": [
    "# Lektion 1 uppgift 1c\n",
    "print(3*43-2)"
   ]
  },
  {
   "cell_type": "code",
   "execution_count": 6,
   "metadata": {
    "tags": []
   },
   "outputs": [
    {
     "output_type": "stream",
     "name": "stdout",
     "text": "Hej! Hur mår du?\n"
    }
   ],
   "source": [
    "# Lektion 1 uppgift 2\n",
    "print(\"Hej! Hur mår du?\")"
   ]
  },
  {
   "cell_type": "code",
   "execution_count": 8,
   "metadata": {
    "tags": []
   },
   "outputs": [
    {
     "output_type": "stream",
     "name": "stdout",
     "text": "Du ska betala 30 kr\n"
    }
   ],
   "source": [
    "# Lektion 1 uppgift 3a\n",
    "print(\"Du ska betala\", 15+15 , \"kr\")"
   ]
  },
  {
   "cell_type": "code",
   "execution_count": 9,
   "metadata": {
    "tags": []
   },
   "outputs": [
    {
     "output_type": "stream",
     "name": "stdout",
     "text": "Du ska betala 59 kr\n"
    }
   ],
   "source": [
    "# Lektion 1 uppgift 3b\n",
    "print(\"Du ska betala\", 15+15+29 , \"kr\")"
   ]
  },
  {
   "cell_type": "code",
   "execution_count": 10,
   "metadata": {
    "tags": []
   },
   "outputs": [
    {
     "output_type": "stream",
     "name": "stdout",
     "text": "Du ska betala 168 kr\n"
    }
   ],
   "source": [
    "# Lektion 1 uppgift 3c\n",
    "print(\"Du ska betala\", 15+15+15+29+29+29+12+12+12, \"kr\")"
   ]
  },
  {
   "cell_type": "code",
   "execution_count": 11,
   "metadata": {
    "tags": []
   },
   "outputs": [
    {
     "output_type": "stream",
     "name": "stdout",
     "text": "9863\n"
    }
   ],
   "source": [
    "# Lektion 1 uppgift 4\n",
    "print(219*45+8)"
   ]
  },
  {
   "cell_type": "code",
   "execution_count": 12,
   "metadata": {
    "tags": []
   },
   "outputs": [
    {
     "output_type": "stream",
     "name": "stdout",
     "text": "Om du kör med hastigheten 70 km/h i 1,5 timmar, så hinner du\n105.0\nkm.\n"
    }
   ],
   "source": [
    "# Lektion 1 uppgift 5a\n",
    "print(\"Om du kör med hastigheten 70 km/h i 1,5 timmar, så hinner du\")\n",
    "print(70*1.5)\n",
    "print(\"km.\")\n",
    "# Det blir inte på samma rad"
   ]
  },
  {
   "cell_type": "code",
   "execution_count": 13,
   "metadata": {
    "tags": []
   },
   "outputs": [
    {
     "output_type": "stream",
     "name": "stdout",
     "text": "Om du kör med hastigheten 70 km/h i 1,5 timmar, så hinner du 105.0 km.\n"
    }
   ],
   "source": [
    "# Lektion 1 uppgift 5b\n",
    "print(\"Om du kör med hastigheten 70 km/h i 1,5 timmar, så hinner du\", 70*1.5, \"km.\")"
   ]
  },
  {
   "cell_type": "code",
   "execution_count": 14,
   "metadata": {
    "tags": []
   },
   "outputs": [
    {
     "output_type": "stream",
     "name": "stdout",
     "text": "hejhej\nhejhejhej\n"
    }
   ],
   "source": [
    "# Lektion 1 uppgift 6a\n",
    "# hej hej \n",
    "# hej hej hej\n",
    "\n",
    "# Lektion 1 uppgift 6b\n",
    "print(\"hej\" + \"hej\")\n",
    "print(3 * \"hej\")"
   ]
  },
  {
   "cell_type": "code",
   "execution_count": 1,
   "metadata": {
    "tags": []
   },
   "outputs": [
    {
     "output_type": "stream",
     "name": "stdout",
     "text": "hejhejhejhejhejhejhejhejhejhej\n"
    }
   ],
   "source": [
    "# Lektion 1 uppgift 6c\n",
    "print(10*\"hej\")"
   ]
  },
  {
   "cell_type": "code",
   "execution_count": 2,
   "metadata": {},
   "outputs": [],
   "source": [
    "# Lektion 1 uppgift 7\n",
    "# 1 och A, 2 och B, 3 och C, 4 och B"
   ]
  },
  {
   "cell_type": "code",
   "execution_count": 3,
   "metadata": {
    "tags": []
   },
   "outputs": [
    {
     "output_type": "stream",
     "name": "stdout",
     "text": "23\n5\n"
    }
   ],
   "source": [
    "# Lektion 1 uppgift 8, 8c: Ja\n",
    "\n",
    "print(3+2*10)\n",
    "print(5*(8-7))"
   ]
  },
  {
   "cell_type": "code",
   "execution_count": 4,
   "metadata": {
    "tags": []
   },
   "outputs": [
    {
     "output_type": "stream",
     "name": "stdout",
     "text": "4\n9\n16\n"
    }
   ],
   "source": [
    "# Lektion 1 uppgift 9, 9c: den vissar upphöjt i\n",
    "print(2**2)\n",
    "print(3**2)\n",
    "print(4**2)\n"
   ]
  },
  {
   "cell_type": "code",
   "execution_count": 6,
   "metadata": {
    "tags": []
   },
   "outputs": [
    {
     "output_type": "stream",
     "name": "stdout",
     "text": "4.5 och 4\n1.8333333333333333 och 1\n2.625 och 2\n"
    }
   ],
   "source": [
    "# Lektion 1 uppgift 10, 10c: den vissar exakt hur ,ånga gånger nämnaren får plats i täljaren\n",
    "print(9/2, \"och\", 9//2)\n",
    "print(11/6, \"och\", 11//6)\n",
    "print(21/8, \"och\", 21//8)"
   ]
  },
  {
   "cell_type": "code",
   "execution_count": null,
   "metadata": {},
   "outputs": [],
   "source": []
  }
 ]
}