{
 "metadata": {
  "language_info": {
   "codemirror_mode": {
    "name": "ipython",
    "version": 3
   },
   "file_extension": ".py",
   "mimetype": "text/x-python",
   "name": "python",
   "nbconvert_exporter": "python",
   "pygments_lexer": "ipython3",
   "version": "3.8.3-final"
  },
  "orig_nbformat": 2,
  "kernelspec": {
   "name": "python3",
   "display_name": "Python 3"
  }
 },
 "nbformat": 4,
 "nbformat_minor": 2,
 "cells": [
  {
   "cell_type": "code",
   "execution_count": 10,
   "metadata": {
    "tags": []
   },
   "outputs": [
    {
     "output_type": "stream",
     "name": "stdout",
     "text": "Din tyngdkraft är 687.4N\n"
    }
   ],
   "source": [
    "# Skapar en variabel g och tilldelar det värdet 9.82 \n",
    "g = 9.82\n",
    "\n",
    "# Input ger oss en sträng, float typomvandlar den till flyttal(decimaltal)\n",
    "m = float(input(\"Hur mycket väger du?\"))\n",
    "\n",
    "F = m*g\n",
    "\n",
    "print(f\"Din tyngdkraft är {F}N\")"
   ]
  },
  {
   "cell_type": "code",
   "execution_count": 12,
   "metadata": {
    "tags": []
   },
   "outputs": [
    {
     "output_type": "stream",
     "name": "stdout",
     "text": "0.07 = 7%\n"
    }
   ],
   "source": [
    "Decimaltal = float(input(\"Skriv ett decimaltal\"))\n",
    "\n",
    "procent = Decimaltal*100\n",
    "\n",
    "print(f\"{Decimaltal} = {procent:.0f}%\")"
   ]
  },
  {
   "cell_type": "code",
   "execution_count": 15,
   "metadata": {
    "tags": []
   },
   "outputs": [
    {
     "output_type": "stream",
     "name": "stdout",
     "text": "7.0 = -266.15°C\n"
    }
   ],
   "source": [
    "Kelvin = float(input(\"Ange en temperatur i Kelvin\"))\n",
    "\n",
    "Celcius = Kelvin-273.15\n",
    "\n",
    "print(f\"{Kelvin} = {Celcius:.2f}°C\")\n"
   ]
  },
  {
   "cell_type": "code",
   "execution_count": 17,
   "metadata": {
    "tags": []
   },
   "outputs": [
    {
     "output_type": "stream",
     "name": "stdout",
     "text": "7.0 = 280.15K\n"
    }
   ],
   "source": [
    "Celcius = float(input(\"Ange en temperatur i Kelvin\"))\n",
    "\n",
    "Kelvin = Celcius+273.15\n",
    "\n",
    "print(f\"{Celcius} = {Kelvin:.2f}K\")\n"
   ]
  },
  {
   "cell_type": "code",
   "execution_count": null,
   "metadata": {},
   "outputs": [],
   "source": []
  }
 ]
}