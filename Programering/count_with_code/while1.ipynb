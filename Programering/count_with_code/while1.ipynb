{
 "metadata": {
  "language_info": {
   "codemirror_mode": {
    "name": "ipython",
    "version": 3
   },
   "file_extension": ".py",
   "mimetype": "text/x-python",
   "name": "python",
   "nbconvert_exporter": "python",
   "pygments_lexer": "ipython3",
   "version": "3.8.3-final"
  },
  "orig_nbformat": 2,
  "kernelspec": {
   "name": "Python 3.8.3 64-bit ('base': conda)",
   "display_name": "Python 3.8.3 64-bit ('base': conda)",
   "metadata": {
    "interpreter": {
     "hash": "2c454fce349e452567f3e35ae8f9e55550354373e9075b73835a11dac2b8d2ac"
    }
   }
  }
 },
 "nbformat": 4,
 "nbformat_minor": 2,
 "cells": [
  {
   "source": [
    "# While-sats\n",
    "\n",
    "Kod upprepas så länge vilkoret gäller\n",
    "\n",
    "For-satser: Kod upprepas ett bestämt antal gånger\n"
   ],
   "cell_type": "markdown",
   "metadata": {}
  },
  {
   "cell_type": "code",
   "execution_count": 3,
   "metadata": {
    "tags": []
   },
   "outputs": [
    {
     "output_type": "stream",
     "name": "stdout",
     "text": "Jämna tal från 0 till 10\n0 2 4 6 8 10 "
    }
   ],
   "source": [
    "print(\"Jämna tal från 0 till 10\")\n",
    "n = 0\n",
    "\n",
    "while n <=10:\n",
    "    print(n, end =\" \")\n",
    "    n += 2"
   ]
  },
  {
   "source": [
    "# Miljöutsläpp\n",
    "\n",
    "Ett Miljöutsläpp halverar fägelpopulation i en ö varje år.\n",
    "\n",
    "Fägelpopulationen började på 8000st\n",
    "\n",
    "Hur många år tar det tills populationen blir mindre än en tiondel?"
   ],
   "cell_type": "markdown",
   "metadata": {}
  },
  {
   "cell_type": "code",
   "execution_count": 5,
   "metadata": {
    "tags": []
   },
   "outputs": [
    {
     "output_type": "stream",
     "name": "stdout",
     "text": "År 0: antal fåglar: 8000st\nÅr 1: antal fåglar: 4000.0st\nÅr 2: antal fåglar: 2000.0st\nÅr 3: antal fåglar: 1000.0st\nÅr 4: antal fåglar: 500.0st\nDet tar 4 år tills fägelpopulatione understiger en tiondel\n"
    }
   ],
   "source": [
    "fåglar = 8000\n",
    "antal_år = 0\n",
    "\n",
    "print(f\"År {antal_år}: antal fåglar: {fåglar}st\")\n",
    "\n",
    "while fåglar >= 800:\n",
    "    fåglar /= 2\n",
    "    antal_år += 1\n",
    "    print(f\"År {antal_år}: antal fåglar: {fåglar}st\")\n",
    "\n",
    "print(f\"Det tar {antal_år} år tills fägelpopulatione understiger en tiondel\")\n"
   ]
  },
  {
   "source": [
    "'''\n",
    "    multiline komementar\n",
    "\n",
    "    x = 5\n",
    "    print(\"hej)\n",
    "'''\n",
    "print(\"då\")"
   ],
   "cell_type": "code",
   "metadata": {
    "tags": []
   },
   "execution_count": 1,
   "outputs": [
    {
     "output_type": "stream",
     "name": "stdout",
     "text": "då\n"
    }
   ]
  },
  {
   "cell_type": "code",
   "execution_count": 13,
   "metadata": {
    "tags": []
   },
   "outputs": [
    {
     "output_type": "stream",
     "name": "stdout",
     "text": "5050\n"
    }
   ],
   "source": [
    "# While-sats uppgift 1\n",
    "\n",
    "summa, n = 0, 0\n",
    "\n",
    "while n <= 100:\n",
    "    summa += n\n",
    "    n += 1\n",
    "\n",
    "print(summa)"
   ]
  },
  {
   "cell_type": "code",
   "execution_count": 16,
   "metadata": {
    "tags": []
   },
   "outputs": [
    {
     "output_type": "stream",
     "name": "stdout",
     "text": "2450\n"
    }
   ],
   "source": [
    "# While-sats uppgift\n",
    "\n",
    "summa, n = 0, 0\n",
    "\n",
    "while n < 100:\n",
    "    summa += n\n",
    "    n += 2\n",
    "\n",
    "print(summa)"
   ]
  },
  {
   "cell_type": "code",
   "execution_count": null,
   "metadata": {},
   "outputs": [],
   "source": [
    "# While-sats uppgift 5\n",
    "\n",
    "n = 3\n",
    "\n",
    "tal = input(int(\"Gissa på ett tal: \"))\n",
    "\n",
    "while tal not 3:\n",
    "    print "
   ]
  }
 ]
}