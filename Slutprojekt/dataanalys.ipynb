{
 "metadata": {
  "language_info": {
   "codemirror_mode": {
    "name": "ipython",
    "version": 3
   },
   "file_extension": ".py",
   "mimetype": "text/x-python",
   "name": "python",
   "nbconvert_exporter": "python",
   "pygments_lexer": "ipython3",
   "version": "3.8.3"
  },
  "orig_nbformat": 2,
  "kernelspec": {
   "name": "python383jvsc74a57bd02c454fce349e452567f3e35ae8f9e55550354373e9075b73835a11dac2b8d2ac",
   "display_name": "Python 3.8.3 64-bit ('base': conda)"
  }
 },
 "nbformat": 4,
 "nbformat_minor": 2,
 "cells": [
  {
   "cell_type": "code",
   "execution_count": 11,
   "metadata": {},
   "outputs": [
    {
     "output_type": "execute_result",
     "data": {
      "text/plain": [
       "0       7\n",
       "1       3\n",
       "2      15\n",
       "3      33\n",
       "4      81\n",
       "5     261\n",
       "6     721\n",
       "7    2605\n",
       "8    5239\n",
       "9    3463\n",
       "Name: Total_Deaths, dtype: int64"
      ]
     },
     "metadata": {},
     "execution_count": 11
    }
   ],
   "source": [
    "import pandas as pd \n",
    "\n",
    "df = pd.read_csv(\"National_Total_Deaths_by_Age_Group.csv\")\n",
    "\n",
    "df_Total_Cases = df[\"Total_Cases\"]\n",
    "df_Total_ICU = df[\"Total_ICU_Admissions\"]\n",
    "df_Total_Deaths = df[\"Total_Deaths\"]\n",
    "\n",
    "df_Total_Deaths\n"
   ]
  },
  {
   "cell_type": "code",
   "execution_count": null,
   "metadata": {},
   "outputs": [],
   "source": []
  }
 ]
}