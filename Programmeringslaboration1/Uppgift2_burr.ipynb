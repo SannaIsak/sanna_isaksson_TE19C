{
 "metadata": {
  "language_info": {
   "codemirror_mode": {
    "name": "ipython",
    "version": 3
   },
   "file_extension": ".py",
   "mimetype": "text/x-python",
   "name": "python",
   "nbconvert_exporter": "python",
   "pygments_lexer": "ipython3",
   "version": "3.8.3-final"
  },
  "orig_nbformat": 2,
  "kernelspec": {
   "name": "Python 3.8.3 64-bit ('base': conda)",
   "display_name": "Python 3.8.3 64-bit ('base': conda)",
   "metadata": {
    "interpreter": {
     "hash": "2c454fce349e452567f3e35ae8f9e55550354373e9075b73835a11dac2b8d2ac"
    }
   }
  }
 },
 "nbformat": 4,
 "nbformat_minor": 2,
 "cells": [
  {
   "cell_type": "code",
   "execution_count": 4,
   "metadata": {},
   "outputs": [
    {
     "output_type": "stream",
     "name": "stdout",
     "text": [
      "1 2 3 4 5 6 7 8 9 10 11 12 13 14 15 16 17 18 19 20 21 22 23 24 25 26 27 28 29 30 31 32 33 34 35 36 37 38 39 40 41 42 43 44 45 46 47 48 49 50 51 52 53 54 55 56 57 58 59 60 61 62 63 64 65 66 67 68 69 70 71 72 73 74 75 76 77 78 79 80 81 82 83 84 85 86 87 88 89 90 91 92 93 94 95 96 97 98 99 100 "
     ]
    }
   ],
   "source": [
    "# Uppgift 2a\n",
    "\n",
    "for i in range(1,101): # 1-101 för att få enda upp till 100 och inte 99\n",
    "    print(i, end = \" \") # \" \" för att få siffrorna i rad"
   ]
  },
  {
   "cell_type": "code",
   "execution_count": 22,
   "metadata": {},
   "outputs": [
    {
     "output_type": "stream",
     "name": "stdout",
     "text": [
      "1 2 3 4 Burr 6 7 8 9 Burr 11 12 13 14 Burr 16 17 18 19 Burr 21 22 23 24 Burr 26 27 28 29 Burr 31 32 33 34 Burr 36 37 38 39 Burr 41 42 43 44 Burr 46 47 48 49 Burr 51 52 53 54 Burr 56 57 58 59 Burr 61 62 63 64 Burr 66 67 68 69 Burr 71 72 73 74 Burr 76 77 78 79 Burr 81 82 83 84 Burr 86 87 88 89 Burr 91 92 93 94 Burr 96 97 98 99 Burr "
     ]
    }
   ],
   "source": [
    "# Uppgift 2b\n",
    "\n",
    "for i in range(1,101):\n",
    "    if i%5 == 0: # Om i delat med 5 blir 0\n",
    "        print(\"Burr\", end = \" \")\n",
    "    else:\n",
    "        print(i, end = \" \")"
   ]
  },
  {
   "cell_type": "code",
   "execution_count": 8,
   "metadata": {},
   "outputs": [
    {
     "output_type": "stream",
     "name": "stdout",
     "text": [
      "1 2 3 Burr 5 6 7 Burr 9 10 11 Burr 13 14 15 Burr 17 18 19 Burr 21 22 23 Burr 25 26 27 Burr 29 30 31 Burr 33 34 35 Burr 37 38 39 Burr 41 42 43 Burr 45 46 47 Burr 49 50 51 Burr 53 54 55 Burr 57 58 59 Burr 61 62 63 Burr 65 66 67 Burr 69 70 71 Burr 73 74 75 Burr 77 78 79 Burr 81 82 83 Burr 85 86 87 Burr 89 90 91 Burr 93 94 95 Burr 97 98 99 Burr "
     ]
    }
   ],
   "source": [
    "# Uppgift 2c\n",
    "\n",
    "burr = int(input(\"Välj ett positivt heltal: \")) # int eftersom vi ska ha heltal\n",
    "\n",
    "for i in range(1,101):\n",
    "    if i%burr == 0:\n",
    "        print(\"Burr\", end = \" \")\n",
    "    else:\n",
    "        print(i, end = \" \")"
   ]
  },
  {
   "cell_type": "code",
   "execution_count": 18,
   "metadata": {},
   "outputs": [
    {
     "output_type": "stream",
     "name": "stdout",
     "text": [
      "1 2 Burr 4 5 Burr Birr 8 Burr 10 11 Burr 13 Birr Burr 16 17 Burr 19 20 Burr-Birr 22 23 Burr 25 26 Burr Birr 29 Burr 31 32 Burr 34 Birr Burr 37 38 Burr 40 41 Burr-Birr 43 44 Burr 46 47 Burr Birr 50 Burr 52 53 Burr 55 Birr Burr 58 59 Burr 61 62 Burr-Birr 64 65 Burr 67 68 Burr Birr 71 Burr 73 74 Burr 76 Birr Burr 79 80 Burr 82 83 Burr-Birr 85 86 Burr 88 89 Burr Birr 92 Burr 94 95 Burr 97 Birr Burr 100 "
     ]
    }
   ],
   "source": [
    "# Uppgift 2d\n",
    "\n",
    "burr = int(input(\"Välj ett positivt heltal: \"))\n",
    "birr = int(input(\"Välj ett till positivt heltal: \"))\n",
    "\n",
    "for i in range(1,101):\n",
    "    if i%burr == 0 and i%birr == 0: # De tal som är delbart med både burr och birr\n",
    "        print(\"Burr-Birr\", end = \" \")\n",
    "    elif i%burr == 0:\n",
    "        print(\"Burr\", end = \" \")\n",
    "    elif i%birr == 0:\n",
    "        print(\"Birr\", end = \" \")\n",
    "    else:\n",
    "        print(i, end = \" \")"
   ]
  },
  {
   "cell_type": "code",
   "execution_count": 20,
   "metadata": {},
   "outputs": [
    {
     "output_type": "stream",
     "name": "stdout",
     "text": [
      "Antal burr-birr: 2\nAntal burr: 3\nAntal birr: 0\n"
     ]
    }
   ],
   "source": [
    "# Uppgift 2e\n",
    "s = int(input(\"Välj ett positivt heltal för starttalet: \")) # s = start\n",
    "e = int(input(\"Nu välj ett positivt heltal för sluttalet: \")) # e = end\n",
    "burr = int(input(\"Välj ett positivt heltal: \"))\n",
    "birr = int(input(\"Välj ett till positivt heltal: \"))\n",
    "\n",
    "a_burr_birr = 0 # Variabel för alla burr-birr\n",
    "a_burr = 0 # Variabel för alla burr\n",
    "a_birr = 0 # Variabel för alla birr\n",
    "\n",
    "for i in range(s,e+1):\n",
    "    if i%burr == 0 and i%birr == 0:\n",
    "        a_burr_birr += 1 # Adderar med 1 till variabeln a_burr_birr för varje gång det är sant\n",
    "    elif i%burr == 0:\n",
    "        a_burr += 1 # Adderar med 1 till variabeln a_burr för varje gång det är sant\n",
    "    elif i%birr == 0:\n",
    "        a_birr += 1 # Adderar med 1 till variabeln a_birr för varje gång det är sant\n",
    "\n",
    "print(f\"Antal burr-birr: {a_burr_birr}\")\n",
    "print(f\"Antal burr: {a_burr}\")\n",
    "print(f\"Antal birr: {a_birr}\")\n"
   ]
  },
  {
   "cell_type": "code",
   "execution_count": null,
   "metadata": {},
   "outputs": [],
   "source": []
  }
 ]
}