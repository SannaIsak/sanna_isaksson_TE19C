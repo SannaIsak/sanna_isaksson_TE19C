{
 "metadata": {
  "language_info": {
   "codemirror_mode": {
    "name": "ipython",
    "version": 3
   },
   "file_extension": ".py",
   "mimetype": "text/x-python",
   "name": "python",
   "nbconvert_exporter": "python",
   "pygments_lexer": "ipython3",
   "version": "3.8.3-final"
  },
  "orig_nbformat": 2,
  "kernelspec": {
   "name": "python3",
   "display_name": "Python 3"
  }
 },
 "nbformat": 4,
 "nbformat_minor": 2,
 "cells": [
  {
   "cell_type": "code",
   "execution_count": 2,
   "metadata": {},
   "outputs": [
    {
     "output_type": "stream",
     "name": "stdout",
     "text": [
      "2.5\n25.0\n"
     ]
    }
   ],
   "source": [
    "def medelvärde(a,b,c,d):\n",
    "    medel = (a+b+c+d)/4 #lokal variabel, syns ej utanför funktionen (utanför indenteringen)\n",
    "    return medel\n",
    "\n",
    "print(medelvärde(1,2,3,4))\n",
    "print(medelvärde(10,20,30,40))"
   ]
  },
  {
   "cell_type": "code",
   "execution_count": 3,
   "metadata": {},
   "outputs": [
    {
     "output_type": "stream",
     "name": "stdout",
     "text": [
      "Antal ord i citatet: 7\n"
     ]
    }
   ],
   "source": [
    "def räkna_ord(text):\n",
    "    ord = text.split()\n",
    "    antal_ord = len(ord)\n",
    "    return antal_ord\n",
    "\n",
    "citat = \"I stand on the shoulders of giants\"\n",
    "print(f\"Antal ord i citatet: {räkna_ord(citat)}\")\n"
   ]
  },
  {
   "cell_type": "code",
   "execution_count": 11,
   "metadata": {},
   "outputs": [
    {
     "output_type": "stream",
     "name": "stdout",
     "text": [
      "a) Det är 2.5 miljader människor på jorden år 1950\nb) Den övre gränsen för antalet människor är 11.0 miljader människor\n"
     ]
    }
   ],
   "source": [
    "import numpy as np\n",
    "\n",
    "def antal_människor(t):\n",
    "    N = 11/(1+3.4*np.exp(-0.03*t))\n",
    "    return N\n",
    "\n",
    "print(f\"a) Det är {antal_människor(0)} miljader människor på jorden år 1950\")\n",
    "print(f\"b) Den övre gränsen för antalet människor är {antal_människor(1000000000)} miljader människor\")"
   ]
  },
  {
   "cell_type": "code",
   "execution_count": null,
   "metadata": {},
   "outputs": [],
   "source": []
  }
 ]
}