{
 "metadata": {
  "language_info": {
   "codemirror_mode": {
    "name": "ipython",
    "version": 3
   },
   "file_extension": ".py",
   "mimetype": "text/x-python",
   "name": "python",
   "nbconvert_exporter": "python",
   "pygments_lexer": "ipython3",
   "version": "3.8.3-final"
  },
  "orig_nbformat": 2,
  "kernelspec": {
   "name": "python3",
   "display_name": "Python 3"
  }
 },
 "nbformat": 4,
 "nbformat_minor": 2,
 "cells": [
  {
   "cell_type": "code",
   "execution_count": 2,
   "metadata": {},
   "outputs": [
    {
     "output_type": "stream",
     "name": "stdout",
     "text": [
      "2.5\n25.0\n"
     ]
    }
   ],
   "source": [
    "def medelvärde(a,b,c,d):\n",
    "    medel = (a+b+c+d)/4 #lokal variabel, syns ej utanför funktionen (utanför indenteringen)\n",
    "    return medel\n",
    "\n",
    "print(medelvärde(1,2,3,4))\n",
    "print(medelvärde(10,20,30,40))"
   ]
  },
  {
   "cell_type": "code",
   "execution_count": 3,
   "metadata": {},
   "outputs": [
    {
     "output_type": "stream",
     "name": "stdout",
     "text": [
      "Antal ord i citatet: 7\n"
     ]
    }
   ],
   "source": [
    "def räkna_ord(text):\n",
    "    ord = text.split()\n",
    "    antal_ord = len(ord)\n",
    "    return antal_ord\n",
    "\n",
    "citat = \"I stand on the shoulders of giants\"\n",
    "print(f\"Antal ord i citatet: {räkna_ord(citat)}\")\n"
   ]
  },
  {
   "cell_type": "code",
   "execution_count": 11,
   "metadata": {},
   "outputs": [
    {
     "output_type": "stream",
     "name": "stdout",
     "text": [
      "a) Det är 2.5 miljader människor på jorden år 1950\nb) Den övre gränsen för antalet människor är 11.0 miljader människor\n"
     ]
    }
   ],
   "source": [
    "import numpy as np # för att få talet e\n",
    "\n",
    "def antal_människor(t):\n",
    "    N = 11/(1+3.4*np.exp(-0.03*t))\n",
    "    return N\n",
    "\n",
    "print(f\"a) Det är {antal_människor(0)} miljader människor på jorden år 1950\")\n",
    "print(f\"b) Den övre gränsen för antalet människor är {antal_människor(1000000000)} miljader människor\")"
   ]
  },
  {
   "cell_type": "code",
   "execution_count": 1,
   "metadata": {},
   "outputs": [
    {
     "output_type": "stream",
     "name": "stdout",
     "text": [
      "-9\n"
     ]
    }
   ],
   "source": [
    "def f(x):\n",
    "    return -x**2\n",
    "\n",
    "print(f(3))"
   ]
  },
  {
   "cell_type": "code",
   "execution_count": 2,
   "metadata": {},
   "outputs": [
    {
     "output_type": "stream",
     "name": "stdout",
     "text": [
      "Hej\n"
     ]
    }
   ],
   "source": [
    "def sayHello():\n",
    "    print(\"Hej\")\n",
    "\n",
    "sayHello()"
   ]
  },
  {
   "cell_type": "code",
   "execution_count": 3,
   "metadata": {},
   "outputs": [
    {
     "output_type": "stream",
     "name": "stdout",
     "text": [
      "TE19C är bäst\nTE19C ska sluta spela kort\n"
     ]
    }
   ],
   "source": [
    "def skrivUt(text):\n",
    "    print(text)\n",
    "\n",
    "skrivUt(\"TE19C är bäst\")\n",
    "skrivUt(\"TE19C ska sluta spela kort\")\n",
    "\n"
   ]
  },
  {
   "cell_type": "code",
   "execution_count": 9,
   "metadata": {},
   "outputs": [
    {
     "output_type": "stream",
     "name": "stdout",
     "text": [
      "1\n"
     ]
    }
   ],
   "source": [
    "def minsta(tal1,tal2):\n",
    "    if tal1 < tal2:\n",
    "        return tal1\n",
    "    else:\n",
    "        return tal2\n",
    "        \n",
    "\n",
    "print(minsta(1,10000))"
   ]
  },
  {
   "source": [
    "## Area av triangel\n",
    "\n",
    "A = (b*h)/2"
   ],
   "cell_type": "markdown",
   "metadata": {}
  },
  {
   "cell_type": "code",
   "execution_count": 2,
   "metadata": {},
   "outputs": [
    {
     "output_type": "stream",
     "name": "stdout",
     "text": [
      "Arean på en triangel med bas 2 l.e och höjd 4 l.e är 4.0 a.e\nArean på en triangel med bas 10 l.e och höjd 12 l.e är 60.0 a.e\n"
     ]
    }
   ],
   "source": [
    "def triangelarea(bas,höjd):\n",
    "    area = (bas*höjd)/2\n",
    "    return area\n",
    "\n",
    "area1 = triangelarea(2,4)\n",
    "area2 = triangelarea(10,12)\n",
    "\n",
    "print(f\"Arean på en triangel med bas 2 l.e och höjd 4 l.e är {area1} a.e\")\n",
    "print(f\"Arean på en triangel med bas 10 l.e och höjd 12 l.e är {area2} a.e\")"
   ]
  },
  {
   "cell_type": "code",
   "execution_count": 18,
   "metadata": {},
   "outputs": [
    {
     "output_type": "stream",
     "name": "stdout",
     "text": [
      "5050.0\n"
     ]
    }
   ],
   "source": [
    "# Uppgift 1a och b\n",
    "\n",
    "def aritmetisk_summa(n,a1,an):\n",
    "    sn = n*(a1 + an)/2\n",
    "    return sn\n",
    "\n",
    "print(aritmetisk_summa(100,1,100))"
   ]
  },
  {
   "cell_type": "code",
   "execution_count": 24,
   "metadata": {},
   "outputs": [
    {
     "output_type": "stream",
     "name": "stdout",
     "text": [
      "Summan av den aritmetiska funktionen från 1 till 100 är: 5050.0\n"
     ]
    }
   ],
   "source": [
    "# Uppgift 1c\n",
    "\n",
    "def aritmetisk_summa(n,a1,an):\n",
    "    sn = n*(a1 + an)/2\n",
    "    return sn\n",
    "\n",
    "tal1 = int(input(\"Skriv antalet du vill ha för den aritmetiska funktionen: \"))\n",
    "tal2 = int(input(\"Skriv starttalet: \"))\n",
    "tal3 = int(input(\"Skriv sluttalet: \"))\n",
    "\n",
    "print(f\"Summan av den aritmetiska funktionen från {tal2} till {tal3} är: {aritmetisk_summa(tal1,tal2,tal3)}\")"
   ]
  },
  {
   "cell_type": "code",
   "execution_count": 8,
   "metadata": {},
   "outputs": [
    {
     "output_type": "stream",
     "name": "stdout",
     "text": [
      "Summan av funktionen är: 27.5\n"
     ]
    }
   ],
   "source": [
    "# Uppgift 2a\n",
    "\n",
    "def funktion(n):\n",
    "    s = n*0.5*(1 + n)/2\n",
    "    return s\n",
    "\n",
    "tal1 = int(input(\"SKriv antalet du vill ha för funktionen: \"))\n",
    "\n",
    "print(f\"Summan av funktionen är: {funktion(tal1)}\")\n"
   ]
  },
  {
   "cell_type": "code",
   "execution_count": 12,
   "metadata": {},
   "outputs": [
    {
     "output_type": "stream",
     "name": "stdout",
     "text": [
      "Summan av funktionen med starttal 1 och sluttal 100 är: 2525.0\n"
     ]
    }
   ],
   "source": [
    "# Uppgift 2b\n",
    "\n",
    "def funktion(n,a1,an):\n",
    "    s = n*0.5*(a1 + an)/2\n",
    "    return s\n",
    "\n",
    "tal1 = int(input(\"Skriv antalet du vill ha för funktionen: \"))\n",
    "tal2 = int(input(\"Skriv starttalet: \"))\n",
    "tal3 = int(input(\"Skriv sluttalet: \"))\n",
    "\n",
    "\n",
    "print(f\"Summan av funktionen med starttal {tal2} och sluttal {tal3} är: {funktion(tal1,tal2,tal3)}\")\n"
   ]
  },
  {
   "cell_type": "code",
   "execution_count": 13,
   "metadata": {},
   "outputs": [
    {
     "output_type": "stream",
     "name": "stdout",
     "text": [
      "0.4\n"
     ]
    }
   ],
   "source": [
    "# Uppgift 3a\n",
    "\n",
    "def punkter(y1,x1,y2,x2):\n",
    "    avstånd = \n",
    "    return avstånd\n",
    "\n",
    "print(punkter(3,3,1,-2))"
   ]
  },
  {
   "cell_type": "code",
   "execution_count": null,
   "metadata": {},
   "outputs": [],
   "source": []
  }
 ]
}