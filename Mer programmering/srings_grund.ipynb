{
 "metadata": {
  "language_info": {
   "codemirror_mode": {
    "name": "ipython",
    "version": 3
   },
   "file_extension": ".py",
   "mimetype": "text/x-python",
   "name": "python",
   "nbconvert_exporter": "python",
   "pygments_lexer": "ipython3",
   "version": "3.8.3-final"
  },
  "orig_nbformat": 2,
  "kernelspec": {
   "name": "python3",
   "display_name": "Python 3"
  }
 },
 "nbformat": 4,
 "nbformat_minor": 2,
 "cells": [
  {
   "source": [
    "# Strängar i Python\n",
    "* Indexeringsoperatorn\n",
    "* Skivoperatorn :\n",
    "* Konkatenering\n",
    "* Escape-sekvenser\n"
   ],
   "cell_type": "markdown",
   "metadata": {}
  },
  {
   "cell_type": "code",
   "execution_count": 8,
   "metadata": {},
   "outputs": [
    {
     "output_type": "stream",
     "name": "stdout",
     "text": [
      "Namn: Sanna Isakksson\nÅlder: 17\nTelefon: 1234567\n"
     ]
    }
   ],
   "source": [
    "förnamn = \"Sanna\"\n",
    "efternamn = \"Isakksson\"\n",
    "\n",
    "# Konkatenering (addera strängar)\n",
    "namn = förnamn + \" \" + efternamn\n",
    "ålder = 17\n",
    "addres = \"Kronhusgatan 9\"\n",
    "telefon = 1234567\n",
    "\n",
    "personuppg = \"Namn: \" + namn + \"\\n\" + \"Ålder: \" + str(ålder) + \"\\n\" + \"Telefon: \" + str(telefon)\n",
    "\n",
    "print(personuppg)"
   ]
  },
  {
   "source": [
    "## Indexering"
   ],
   "cell_type": "markdown",
   "metadata": {}
  },
  {
   "cell_type": "code",
   "execution_count": 17,
   "metadata": {},
   "outputs": [
    {
     "output_type": "stream",
     "name": "stdout",
     "text": [
      "Alfabetet innehåller 29 bokstäver\nBokstav på index 0: abcdefghijklmnopqrstuvwxyzåäö\nBokstav på index -2: ä\nBokstav på index 6: g\nAlfabetet baklänges: öäåzyxwvutsrqponmlkjihgfedcba\n"
     ]
    }
   ],
   "source": [
    "alfabet = \"abcdefghijklmnopqrstuvwxyzåäö\"\n",
    "\n",
    "# len() funktion - ger längden på en lista\n",
    "print(f\"Alfabetet innehåller {len(alfabet)} bokstäver\")\n",
    "\n",
    "# Indexera\n",
    "print(f\"Bokstav på index 0: {alfabet[:]}\")\n",
    "print(f\"Bokstav på index -2: {alfabet[-2]}\")\n",
    "print(f\"Bokstav på index 6: {alfabet[6]}\")\n",
    "print(f\"Alfabetet baklänges: {alfabet[::-1]}\")"
   ]
  },
  {
   "source": [
    "## split()"
   ],
   "cell_type": "markdown",
   "metadata": {}
  },
  {
   "cell_type": "code",
   "execution_count": 15,
   "metadata": {},
   "outputs": [
    {
     "output_type": "stream",
     "name": "stdout",
     "text": [
      "['Matematik', 'Programering', 'Fysik', 'Webbutveckling', 'Engelska']\n['Kött,', 'Pizza,', 'Glass,', 'Jonasburgare,', 'Kyckling']\nJag älskar att äta Kött,\nJag älskar att äta Pizza,\nJag älskar att äta Glass,\nJag älskar att äta Jonasburgare,\nJag älskar att äta Kyckling\n"
     ]
    }
   ],
   "source": [
    "favoritämnen = \"Matematik Programering Fysik Webbutveckling Engelska\"\n",
    "favoritmat = \"Kött Pizza Glass Jonasburgare Kyckling\"\n",
    "\n",
    "# split() separerar en sträng\n",
    "favoritämnen = favoritämnen.split()\n",
    "favoritmat = favoritmat.split()\n",
    "\n",
    "print(favoritämnen)\n",
    "print(favoritmat)\n",
    "\n",
    "for mat in favoritmat:\n",
    "    print(f\"Jag älskar att äta {mat}\")"
   ]
  },
  {
   "cell_type": "code",
   "execution_count": null,
   "metadata": {},
   "outputs": [],
   "source": []
  }
 ]
}