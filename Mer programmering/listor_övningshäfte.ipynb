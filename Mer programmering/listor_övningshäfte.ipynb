{
 "metadata": {
  "language_info": {
   "codemirror_mode": {
    "name": "ipython",
    "version": 3
   },
   "file_extension": ".py",
   "mimetype": "text/x-python",
   "name": "python",
   "nbconvert_exporter": "python",
   "pygments_lexer": "ipython3",
   "version": "3.8.3-final"
  },
  "orig_nbformat": 2,
  "kernelspec": {
   "name": "python3",
   "display_name": "Python 3"
  }
 },
 "nbformat": 4,
 "nbformat_minor": 2,
 "cells": [
  {
   "cell_type": "code",
   "execution_count": 27,
   "metadata": {},
   "outputs": [
    {
     "output_type": "stream",
     "name": "stdout",
     "text": [
      "[5, 4, 3, 6, 6, 5, 5, 2, 3, 6]\n"
     ]
    }
   ],
   "source": [
    "# Uppgift 1a\n",
    "import random as rnd\n",
    "\n",
    "tärningsslag = []\n",
    "\n",
    "for i in range(1, 11):\n",
    "    tal = rnd.randint(1,6)\n",
    "    tärningsslag.append(tal)\n",
    "\n",
    "print(tärningsslag)"
   ]
  },
  {
   "cell_type": "code",
   "execution_count": null,
   "metadata": {},
   "outputs": [],
   "source": []
  }
 ]
}