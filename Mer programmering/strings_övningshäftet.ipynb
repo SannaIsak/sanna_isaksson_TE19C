{
 "metadata": {
  "language_info": {
   "codemirror_mode": {
    "name": "ipython",
    "version": 3
   },
   "file_extension": ".py",
   "mimetype": "text/x-python",
   "name": "python",
   "nbconvert_exporter": "python",
   "pygments_lexer": "ipython3",
   "version": "3.8.3-final"
  },
  "orig_nbformat": 2,
  "kernelspec": {
   "name": "python3",
   "display_name": "Python 3"
  }
 },
 "nbformat": 4,
 "nbformat_minor": 2,
 "cells": [
  {
   "source": [
    "# Strängar"
   ],
   "cell_type": "markdown",
   "metadata": {}
  },
  {
   "cell_type": "code",
   "execution_count": 2,
   "metadata": {},
   "outputs": [
    {
     "output_type": "stream",
     "name": "stdout",
     "text": [
      "Ditt namn innehåller 5 bokstäver\n"
     ]
    }
   ],
   "source": [
    "# Uppgift 1\n",
    "\n",
    "namn = input(\"Skriv ditt namn: \")\n",
    "\n",
    "print(f\"Ditt namn innehåller {len(namn)} bokstäver\")"
   ]
  },
  {
   "cell_type": "code",
   "execution_count": 3,
   "metadata": {},
   "outputs": [
    {
     "output_type": "stream",
     "name": "stdout",
     "text": [
      "Mening innehåller 15 ord\n"
     ]
    }
   ],
   "source": [
    "# Uppgift 2\n",
    "\n",
    "mening = \"En bild säger mer än tusen ord, en matematisk formel säger mer en tusen bilder\"\n",
    "\n",
    "mening = mening.split()\n",
    "\n",
    "print(f\"Mening innehåller {len(mening)} ord\")"
   ]
  },
  {
   "cell_type": "code",
   "execution_count": 8,
   "metadata": {},
   "outputs": [
    {
     "output_type": "stream",
     "name": "stdout",
     "text": [
      "Det är en palindrom\n"
     ]
    }
   ],
   "source": [
    "# Uppgift 3a\n",
    "\n",
    "följd = input(\"Skriv en följd av bokstäver utan mellanslag och skiljetecken: \")\n",
    "\n",
    "baklänges = f\"{följd[::-1]}\" # det som skrevs in i variabeln följd skrivs baklänges och läggs in i variabeln baklänges\n",
    "\n",
    "if följd == baklänges:\n",
    "    print(\"Det är en palindrom\")\n",
    "else:\n",
    "    print(\"Det är inte en palindrom\")"
   ]
  },
  {
   "cell_type": "code",
   "execution_count": 22,
   "metadata": {},
   "outputs": [
    {
     "output_type": "stream",
     "name": "stdout",
     "text": [
      "Det är en palindrom\n"
     ]
    }
   ],
   "source": [
    "# Uppgift 3b - Samma pogram fungerade för båda uppgifter\n",
    "\n",
    "följd = input(\"Skriv en följd av bokstäver, du kan använda mellanslag och skiljetecken: \")\n",
    "\n",
    "baklänges = f\"{följd[::-1]}\"\n",
    "\n",
    "if följd == baklänges:\n",
    "    print(\"Det är en palindrom\")\n",
    "else:\n",
    "    print(\"Det är inte en palindrom\")"
   ]
  },
  {
   "cell_type": "code",
   "execution_count": 28,
   "metadata": {},
   "outputs": [
    {
     "output_type": "stream",
     "name": "stdout",
     "text": [
      "['Do', 'not', 'worry', 'about', 'your', 'difficulties', 'in', 'Mathematics.', 'I', 'can', 'assure', 'you', 'mine', 'are', 'still', 'greater.']\n"
     ]
    }
   ],
   "source": [
    "# Uppgift 4\n",
    "\n",
    "mening = \"Do not worry about your difficulties in Mathematics. I can assure you mine are still greater.\"\n",
    "\n",
    "mening = mening.split()\n",
    "\n",
    "print(mening)"
   ]
  },
  {
   "cell_type": "code",
   "execution_count": null,
   "metadata": {},
   "outputs": [],
   "source": []
  }
 ]
}