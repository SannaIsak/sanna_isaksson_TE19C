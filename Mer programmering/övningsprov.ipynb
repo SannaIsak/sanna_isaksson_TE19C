{
 "metadata": {
  "language_info": {
   "codemirror_mode": {
    "name": "ipython",
    "version": 3
   },
   "file_extension": ".py",
   "mimetype": "text/x-python",
   "name": "python",
   "nbconvert_exporter": "python",
   "pygments_lexer": "ipython3",
   "version": "3.8.3-final"
  },
  "orig_nbformat": 2,
  "kernelspec": {
   "name": "python3",
   "display_name": "Python 3",
   "language": "python"
  }
 },
 "nbformat": 4,
 "nbformat_minor": 2,
 "cells": [
  {
   "cell_type": "code",
   "execution_count": null,
   "metadata": {},
   "outputs": [],
   "source": [
    "# Uppgift 1\n",
    "\n",
    "# 1: Bestämer vad variabeln birds är från början\n",
    "# 2: Bestämer vad varibeln year är från början\n",
    "# 3: Funktionen ska fortsätta till värdet på varibeln birds är mindre eller lika med 800\n",
    "# 4: Lägger till 1 i variabeln year vid varje loop\n",
    "# 5: Delar värdet i variabeln birds med två vid varje loop\n",
    "# 6: Skriver ut vilket år antalet fåglar är mindre eller lika med 800 samt antalet fåglar avrundat till 0 decimaler"
   ]
  },
  {
   "cell_type": "code",
   "execution_count": null,
   "metadata": {},
   "outputs": [],
   "source": [
    "# Uppgift 2\n",
    "\n",
    "# 1: Importerar graf ritar funktionen\n",
    "# 3: För att definerar funktionen, ger namn till funktionen (i detta fall är det f)\n",
    "# 4: Returnerar värder på funktionen som står (för det x värde man anget)\n",
    "# 6: Beskriver vad x är vilket är värderna från 0-9 på grund av \"in range(10)\"\n",
    "# 7: Beskriver vad y är när x är ett visst värde\n",
    "# 8: Gör en graf med de x och y värden man får ut från ovanstående kod\n",
    "# 9: Skriver x som namn på x-axeln\n",
    "# 10: Skriver y som namn på y-axeln\n",
    "# 11: Skriver ut grafen så vi ser den"
   ]
  },
  {
   "cell_type": "code",
   "execution_count": 13,
   "metadata": {},
   "outputs": [
    {
     "output_type": "stream",
     "name": "stdout",
     "text": [
      "Det blir 3.0\n"
     ]
    }
   ],
   "source": [
    "# Uppgift 3\n",
    "\n",
    "def f(x,y,z):\n",
    "    return (x+y+z)/3\n",
    "\n",
    "print(f(1,3,5))"
   ]
  },
  {
   "cell_type": "code",
   "execution_count": 2,
   "metadata": {},
   "outputs": [
    {
     "output_type": "stream",
     "name": "stdout",
     "text": [
      "113.04\n"
     ]
    }
   ],
   "source": [
    "# Uppgift 4\n",
    "\n",
    "import math\n",
    "\n",
    "radie = int(input(\"Välj ett tal som ska vara radien på sfären: \"))\n",
    "\n",
    "def V(x):\n",
    "    return (4*3.14*x**3)/3\n",
    "\n",
    "print(f\"{V(radie):.2f}\")"
   ]
  },
  {
   "cell_type": "code",
   "execution_count": 6,
   "metadata": {},
   "outputs": [
    {
     "output_type": "stream",
     "name": "stdout",
     "text": [
      "Meningen innehåller 4 ord\n"
     ]
    }
   ],
   "source": [
    "# Uppgift 5\n",
    "\n",
    "mening = input(\"Skriv en mening: \")\n",
    "\n",
    "mening = mening.split()\n",
    "\n",
    "print(f\"Meningen innehåller {len(mening)} ord\")"
   ]
  },
  {
   "cell_type": "code",
   "execution_count": 27,
   "metadata": {
    "tags": []
   },
   "outputs": [
    {
     "output_type": "stream",
     "name": "stdout",
     "text": [
      "Åh nej det blev fel, försök igen!\n",
      "Rätt!\n",
      "Åh nej det blev fel, försök igen!\n",
      "Åh nej det blev fel, försök igen!\n",
      "Rätt!\n"
     ]
    }
   ],
   "source": [
    "# Uppgift 6\n",
    "\n",
    "import random\n",
    "\n",
    "def multiplication(x):\n",
    "    y = random.randint(1,10)\n",
    "    rättsvar = x*y\n",
    "    return rättsvar\n",
    "\n",
    "fortsatt = \"ja\"\n",
    "\n",
    "while fortsatt == \"ja\":\n",
    "    tabell = int(input(\"Vilken gångertabell vill du öva på? Skriv den siffran: \"))\n",
    "\n",
    "    slutsvar = (f(tabell))\n",
    "\n",
    "    while mittsvar != slutsvar:\n",
    "        mittsvar = int(input(f\"Vad blir {tabell} multiplicerat med {y}\"))\n",
    "        print(\"Åh nej det blev fel, försök igen!\")\n",
    "    else:\n",
    "        print(\"Rätt!\")\n",
    "        mittsvar = 0\n",
    "    fortsatt = input(\"Vill du fortsätta?\")"
   ]
  },
  {
   "cell_type": "code",
   "execution_count": 24,
   "metadata": {},
   "outputs": [
    {
     "output_type": "stream",
     "name": "stdout",
     "text": [
      "Andelen femmor är 0.1654\n"
     ]
    }
   ],
   "source": [
    "# Uppgift 7\n",
    "\n",
    "import random\n",
    "\n",
    "totalt = 0\n",
    "\n",
    "for i in range(10000):\n",
    "   tärning = random.randint(1,6)\n",
    "   if tärning == 5:\n",
    "       totalt += 1\n",
    "\n",
    "andel = totalt/10000\n",
    "\n",
    "print(f\"Andelen femmor är {andel}\")\n",
    "    "
   ]
  },
  {
   "cell_type": "code",
   "execution_count": 4,
   "metadata": {},
   "outputs": [
    {
     "output_type": "stream",
     "name": "stdout",
     "text": [
      "None\n"
     ]
    },
    {
     "output_type": "error",
     "ename": "NameError",
     "evalue": "name 'tusenlappar' is not defined",
     "traceback": [
      "\u001b[1;31m---------------------------------------------------------------------------\u001b[0m",
      "\u001b[1;31mNameError\u001b[0m                                 Traceback (most recent call last)",
      "\u001b[1;32m<ipython-input-4-1f7e553b6e3f>\u001b[0m in \u001b[0;36m<module>\u001b[1;34m\u001b[0m\n\u001b[0;32m     55\u001b[0m \u001b[1;33m\u001b[0m\u001b[0m\n\u001b[0;32m     56\u001b[0m \u001b[0mprint\u001b[0m\u001b[1;33m(\u001b[0m\u001b[0mf\u001b[0m\u001b[1;33m(\u001b[0m\u001b[0my\u001b[0m\u001b[1;33m)\u001b[0m\u001b[1;33m)\u001b[0m\u001b[1;33m\u001b[0m\u001b[1;33m\u001b[0m\u001b[0m\n\u001b[1;32m---> 57\u001b[1;33m \u001b[0mprint\u001b[0m\u001b[1;33m(\u001b[0m\u001b[0mtusenlappar\u001b[0m\u001b[1;33m,\u001b[0m\u001b[0mfemhundralappar\u001b[0m\u001b[1;33m,\u001b[0m\u001b[0mtvåhundralappar\u001b[0m\u001b[1;33m,\u001b[0m\u001b[0mhundralappar\u001b[0m\u001b[1;33m,\u001b[0m\u001b[0mfemtiolappar\u001b[0m\u001b[1;33m,\u001b[0m\u001b[0mtjugolappar\u001b[0m\u001b[1;33m,\u001b[0m\u001b[0mtiokroner\u001b[0m\u001b[1;33m,\u001b[0m\u001b[0mfemkroner\u001b[0m\u001b[1;33m,\u001b[0m\u001b[0mtvåkroner\u001b[0m\u001b[1;33m,\u001b[0m\u001b[0menkroner\u001b[0m\u001b[1;33m)\u001b[0m\u001b[1;33m\u001b[0m\u001b[1;33m\u001b[0m\u001b[0m\n\u001b[0m\u001b[0;32m     58\u001b[0m \u001b[1;33m\u001b[0m\u001b[0m\n",
      "\u001b[1;31mNameError\u001b[0m: name 'tusenlappar' is not defined"
     ]
    }
   ],
   "source": [
    "# Uppgift 8\n",
    "\n",
    "y = int(input(\"Skriv ett positivt heltal: \"))\n",
    "\n",
    "def f(x):\n",
    "    tusenlappar = 0\n",
    "    tusen = x // 1000\n",
    "    if tusen >= 1:\n",
    "        tusenlappar += tusen\n",
    "\n",
    "    femhundralappar = 0\n",
    "    femhundra = (x-(tusenlappar*1000)) // 500\n",
    "    if femhundra >= 1:\n",
    "        femhundralappar += femhundra\n",
    "    \n",
    "    tvåhundralappar = 0\n",
    "    tvåhundra = (x-(tusenlappar*1000+femhundralappar*500)) // 200\n",
    "    if tvåhundra >= 1:\n",
    "        tvåhundralappar += tvåhundra\n",
    "    \n",
    "    hundralappar = 0\n",
    "    hundra = (x-(tusenlappar*1000+femhundralappar*500+tvåhundralappar*200)) // 100\n",
    "    if hundra >= 1:\n",
    "        hundralappar += hundra\n",
    "    \n",
    "    femtiolappar = 0\n",
    "    femtio = (x-(tusenlappar*1000+femhundralappar*500+tvåhundralappar*200+hundralappar*100)) // 50\n",
    "    if femtio >= 1:\n",
    "        femtiolappar += femtio\n",
    "    \n",
    "    tjugolappar = 0\n",
    "    tjugo = (x-(tusenlappar*1000+femhundralappar*500+tvåhundralappar*200+hundralappar*100+femtiolappar*50)) // 20\n",
    "    if tjugo >= 1:\n",
    "        tjugolappar += tjugo\n",
    "    \n",
    "    tiokroner = 0\n",
    "    tio = (x-(tusenlappar*1000+femhundralappar*500+tvåhundralappar*200+hundralappar*100+femtiolappar*50+tjugolappar*20)) // 10\n",
    "    if tio >= 1:\n",
    "        tiokroner += tio\n",
    "    \n",
    "    femkroner = 0\n",
    "    fem = (x-(tusenlappar*1000+femhundralappar*500+tvåhundralappar*200+hundralappar*100+femtiolappar*50+tjugolappar*20+tiokroner*10)) // 5\n",
    "    if fem >= 1:\n",
    "        femkroner += fem\n",
    "    \n",
    "    tvåkroner = 0\n",
    "    två = (x-(tusenlappar*1000+femhundralappar*500+tvåhundralappar*200+hundralappar*100+femtiolappar*50+tjugolappar*20+tiokroner*10+femkroner*5)) // 2\n",
    "    if två >= 1:\n",
    "        tvåkroner += två\n",
    "\n",
    "    enkroner = 0\n",
    "    en = (x-(tusenlappar*1000+femhundralappar*500+tvåhundralappar*200+hundralappar*100+femtiolappar*50+tjugolappar*20+tiokroner*10+femkroner*5+tvåkroner*2)) // 1\n",
    "    if en >= 1:\n",
    "        enkroner += en\n",
    "\n",
    "print(f(y))\n",
    "print(tusenlappar,femhundralappar,tvåhundralappar,hundralappar,femtiolappar,tjugolappar,tiokroner,femkroner,tvåkroner,enkroner)\n",
    "    \n"
   ]
  },
  {
   "cell_type": "code",
   "execution_count": null,
   "metadata": {},
   "outputs": [],
   "source": [
    "return tusenlappar\n",
    "    print(f\"{f(y)} tusenlappar\")\n",
    "\n",
    "    return hundralappar\n",
    "    print(f\"{f(y)} hundralappar\")"
   ]
  },
  {
   "cell_type": "code",
   "execution_count": 36,
   "metadata": {},
   "outputs": [
    {
     "output_type": "stream",
     "name": "stdout",
     "text": [
      "Åh nej det blev fel, försök igen!\n"
     ]
    },
    {
     "output_type": "error",
     "ename": "ValueError",
     "evalue": "invalid literal for int() with base 10: ''",
     "traceback": [
      "\u001b[1;31m---------------------------------------------------------------------------\u001b[0m",
      "\u001b[1;31mValueError\u001b[0m                                Traceback (most recent call last)",
      "\u001b[1;32m<ipython-input-36-0328fe8b322c>\u001b[0m in \u001b[0;36m<module>\u001b[1;34m\u001b[0m\n\u001b[0;32m     18\u001b[0m \u001b[1;33m\u001b[0m\u001b[0m\n\u001b[0;32m     19\u001b[0m     \u001b[1;32mwhile\u001b[0m \u001b[0mstopp\u001b[0m \u001b[1;33m==\u001b[0m \u001b[1;34m\"nej\"\u001b[0m\u001b[1;33m:\u001b[0m\u001b[1;33m\u001b[0m\u001b[1;33m\u001b[0m\u001b[0m\n\u001b[1;32m---> 20\u001b[1;33m         \u001b[0mmittsvar\u001b[0m \u001b[1;33m=\u001b[0m \u001b[0mint\u001b[0m\u001b[1;33m(\u001b[0m\u001b[0minput\u001b[0m\u001b[1;33m(\u001b[0m\u001b[1;34mf\"Vad blir {tabell} multiplicerat med {y}\"\u001b[0m\u001b[1;33m)\u001b[0m\u001b[1;33m)\u001b[0m\u001b[1;33m\u001b[0m\u001b[1;33m\u001b[0m\u001b[0m\n\u001b[0m\u001b[0;32m     21\u001b[0m         \u001b[1;32mif\u001b[0m \u001b[0mmittsvar\u001b[0m \u001b[1;33m!=\u001b[0m \u001b[0mrattsvar\u001b[0m\u001b[1;33m:\u001b[0m\u001b[1;33m\u001b[0m\u001b[1;33m\u001b[0m\u001b[0m\n\u001b[0;32m     22\u001b[0m             \u001b[0mprint\u001b[0m\u001b[1;33m(\u001b[0m\u001b[1;34m\"Åh nej det blev fel, försök igen!\"\u001b[0m\u001b[1;33m)\u001b[0m\u001b[1;33m\u001b[0m\u001b[1;33m\u001b[0m\u001b[0m\n",
      "\u001b[1;31mValueError\u001b[0m: invalid literal for int() with base 10: ''"
     ]
    }
   ],
   "source": [
    "import random\n",
    "\n",
    "def multiplication(x):\n",
    "    y = random.randint(1,10)\n",
    "    slutsvar = x*y\n",
    "    return slutsvar\n",
    "\n",
    "fortsatt = \"ja\"\n",
    "sammatabell = \"nej\"\n",
    "stopp = \"nej\"\n",
    "\n",
    "while fortsatt == \"ja\":\n",
    "\n",
    "    if sammatabell == \"nej\":\n",
    "        tabell = int(input(\"Vilken gångertabell vill du öva på? Skriv den siffran: \"))\n",
    "\n",
    "    rattsvar = multiplication(tabell)\n",
    "\n",
    "    while stopp == \"nej\":\n",
    "        mittsvar = int(input(f\"Vad blir {tabell} multiplicerat med {y}\"))\n",
    "        if mittsvar != rattsvar:\n",
    "            print(\"Åh nej det blev fel, försök igen!\")\n",
    "            stopp = \"nej\"\n",
    "        else:\n",
    "            print(\"Rätt!\")\n",
    "            stopp = \"ja\"\n",
    "            mittsvar = 0\n",
    "\n",
    "    sammatabell = input(\"Vill du använda samma tabell?\")\n",
    "    if sammatabell == \"ja\":\n",
    "        fortsatt = \"ja\"\n",
    "    else:\n",
    "        fortsatt = input(\"Vill du fortsätta?\")\n"
   ]
  },
  {
   "cell_type": "code",
   "execution_count": null,
   "metadata": {},
   "outputs": [],
   "source": [
    "# Uppgift 10\n",
    "\n"
   ]
  }
 ]
}