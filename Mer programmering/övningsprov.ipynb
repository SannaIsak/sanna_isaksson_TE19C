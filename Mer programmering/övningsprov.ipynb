{
 "metadata": {
  "language_info": {
   "codemirror_mode": {
    "name": "ipython",
    "version": 3
   },
   "file_extension": ".py",
   "mimetype": "text/x-python",
   "name": "python",
   "nbconvert_exporter": "python",
   "pygments_lexer": "ipython3",
   "version": "3.8.3-final"
  },
  "orig_nbformat": 2,
  "kernelspec": {
   "name": "python3",
   "display_name": "Python 3",
   "language": "python"
  }
 },
 "nbformat": 4,
 "nbformat_minor": 2,
 "cells": [
  {
   "cell_type": "code",
   "execution_count": null,
   "metadata": {},
   "outputs": [],
   "source": [
    "# Uppgift 1\n",
    "\n",
    "# 1: Bestämer vad variabeln birds är från början\n",
    "# 2: Bestämer vad varibeln year är från början\n",
    "# 3: Funktionen ska fortsätta till värdet på varibeln birds är mindre eller lika med 800\n",
    "# 4: Lägger till 1 i variabeln year vid varje loop\n",
    "# 5: Delar värdet i variabeln birds med två vid varje loop\n",
    "# 6: Skriver ut vilket år antalet fåglar är mindre eller lika med 800 samt antalet fåglar avrundat till 0 decimaler"
   ]
  },
  {
   "cell_type": "code",
   "execution_count": null,
   "metadata": {},
   "outputs": [],
   "source": [
    "# Uppgift 2\n"
   ]
  },
  {
   "cell_type": "code",
   "execution_count": 13,
   "metadata": {},
   "outputs": [
    {
     "output_type": "stream",
     "name": "stdout",
     "text": [
      "Det blir 3.0\n"
     ]
    }
   ],
   "source": [
    "# Uppgift 3\n",
    "\n",
    "def f(x,y,z):\n",
    "    return (x+y+z)/3\n",
    "\n",
    "print(f(1,3,5))"
   ]
  },
  {
   "cell_type": "code",
   "execution_count": 5,
   "metadata": {},
   "outputs": [
    {
     "output_type": "stream",
     "name": "stdout",
     "text": [
      "33.49333333333333\n"
     ]
    }
   ],
   "source": [
    "# Uppgift 4\n",
    "\n",
    "import math\n",
    "\n",
    "radie = int(input(\"Välj ett tal som ska vara radien på sfären: \"))\n",
    "\n",
    "def V(x):\n",
    "    return (4*3.14*x**3)/3\n",
    "\n",
    "print(V(radie))"
   ]
  },
  {
   "cell_type": "code",
   "execution_count": 6,
   "metadata": {},
   "outputs": [
    {
     "output_type": "stream",
     "name": "stdout",
     "text": [
      "Meningen innehåller 4 ord\n"
     ]
    }
   ],
   "source": [
    "# Uppgift 5\n",
    "\n",
    "mening = input(\"Skriv en mening: \")\n",
    "\n",
    "mening = mening.split()\n",
    "\n",
    "print(f\"Meningen innehåller {len(mening)} ord\")"
   ]
  },
  {
   "cell_type": "code",
   "execution_count": null,
   "metadata": {},
   "outputs": [],
   "source": [
    "# Uppgift 6\n",
    "\n"
   ]
  },
  {
   "cell_type": "code",
   "execution_count": 24,
   "metadata": {},
   "outputs": [
    {
     "output_type": "stream",
     "name": "stdout",
     "text": [
      "Andelen femmor är 0.1654\n"
     ]
    }
   ],
   "source": [
    "# Uppgift 7\n",
    "\n",
    "import random \n",
    "\n",
    "totalt = 0\n",
    "\n",
    "for i in range(10000):\n",
    "   tärning = random.randint(1,6)\n",
    "   if tärning == 5:\n",
    "       totalt += 1\n",
    "\n",
    "andel = totalt/10000\n",
    "\n",
    "print(f\"Andelen femmor är {andel}\")\n",
    "    "
   ]
  },
  {
   "cell_type": "code",
   "execution_count": 23,
   "metadata": {},
   "outputs": [],
   "source": [
    "# Uppgift 8\n",
    "\n",
    "y = int(input(\"Skriv ett positivt heltal: \"))\n",
    "\n",
    "def f(x):\n",
    "    tusenlappar = 0\n",
    "    tusen = x // 1000\n",
    "    if tusen >= 1:\n",
    "        tusenlappar += tusen\n",
    "    return tusenlappar\n",
    "    print(f\"{f(y)} tusenlappar\")\n",
    "\n",
    "    hundralappar = 0\n",
    "    hundra = (x-(tusenlappar*1000)) // 100\n",
    "    if hundra >= 1:\n",
    "        hundralappar += hundra\n",
    "    return hundralappar\n",
    "    print(f\"{f(y)} hundralappar\")\n"
   ]
  },
  {
   "cell_type": "code",
   "execution_count": null,
   "metadata": {},
   "outputs": [],
   "source": []
  }
 ]
}