{
 "metadata": {
  "language_info": {
   "codemirror_mode": {
    "name": "ipython",
    "version": 3
   },
   "file_extension": ".py",
   "mimetype": "text/x-python",
   "name": "python",
   "nbconvert_exporter": "python",
   "pygments_lexer": "ipython3",
   "version": "3.8.3-final"
  },
  "orig_nbformat": 2,
  "kernelspec": {
   "name": "python3",
   "display_name": "Python 3",
   "language": "python"
  }
 },
 "nbformat": 4,
 "nbformat_minor": 2,
 "cells": [
  {
   "cell_type": "code",
   "execution_count": null,
   "metadata": {},
   "outputs": [],
   "source": [
    "# Uppgift 1\n",
    "\n",
    "# 1: Bestämer vad variabeln birds är från början\n",
    "# 2: Bestämer vad varibeln year är från början\n",
    "# 3: Funktionen ska fortsätta till värdet på varibeln birds är mindre eller lika med 800\n",
    "# 4: Lägger till 1 i variabeln year vid varje loop\n",
    "# 5: Delar värdet i variabeln birds med två vid varje loop\n",
    "# 6: Skriver ut vilket år antalet fåglar är mindre eller lika med 800 samt antalet fåglar avrundat till 0 decimaler"
   ]
  },
  {
   "cell_type": "code",
   "execution_count": null,
   "metadata": {},
   "outputs": [],
   "source": [
    "# Uppgift 2\n",
    "\n",
    "# 1: Importerar graf ritar funktionen\n",
    "# 3: För att definerar funktionen, ger namn till funktionen (i detta fall är det f)\n",
    "# 4: Returnerar värder på funktionen som står (för det x värde man anget)\n",
    "# 6: Beskriver vad x är vilket är värderna från 0-9 på grund av \"in range(10)\"\n",
    "# 7: Beskriver vad y är när x är ett visst värde\n",
    "# 8: Gör en graf med de x och y värden man får ut från ovanstående kod\n",
    "# 9: Skriver x som namn på x-axeln\n",
    "# 10: Skriver y som namn på y-axeln\n",
    "# 11: Skriver ut grafen så vi ser den"
   ]
  },
  {
   "cell_type": "code",
   "execution_count": 13,
   "metadata": {},
   "outputs": [
    {
     "output_type": "stream",
     "name": "stdout",
     "text": [
      "Det blir 3.0\n"
     ]
    }
   ],
   "source": [
    "# Uppgift 3\n",
    "\n",
    "def f(x,y,z):\n",
    "    return (x+y+z)/3\n",
    "\n",
    "print(f(1,3,5))"
   ]
  },
  {
   "cell_type": "code",
   "execution_count": 2,
   "metadata": {},
   "outputs": [
    {
     "output_type": "stream",
     "name": "stdout",
     "text": [
      "113.04\n"
     ]
    }
   ],
   "source": [
    "# Uppgift 4\n",
    "\n",
    "import math\n",
    "\n",
    "radie = int(input(\"Välj ett tal som ska vara radien på sfären: \"))\n",
    "\n",
    "def V(x):\n",
    "    return (4*3.14*x**3)/3\n",
    "\n",
    "print(f\"{V(radie):.2f}\")"
   ]
  },
  {
   "cell_type": "code",
   "execution_count": 6,
   "metadata": {},
   "outputs": [
    {
     "output_type": "stream",
     "name": "stdout",
     "text": [
      "Meningen innehåller 4 ord\n"
     ]
    }
   ],
   "source": [
    "# Uppgift 5\n",
    "\n",
    "mening = input(\"Skriv en mening: \")\n",
    "\n",
    "mening = mening.split()\n",
    "\n",
    "print(f\"Meningen innehåller {len(mening)} ord\")"
   ]
  },
  {
   "cell_type": "code",
   "execution_count": 11,
   "metadata": {
    "tags": []
   },
   "outputs": [
    {
     "output_type": "stream",
     "name": "stdout",
     "text": [
      "Rätt!\n",
      "Åh nej det blev fel, försök igen!\n",
      "Rätt!\n",
      "Rätt!\n"
     ]
    }
   ],
   "source": [
    "# Uppgift 6\n",
    "\n",
    "import random\n",
    "\n",
    "def multiplication(x):\n",
    "    global y\n",
    "    y = random.randint(1,10)\n",
    "    slutsvar = x*y\n",
    "    return slutsvar\n",
    "\n",
    "fortsatt = \"ja\"\n",
    "sammatabell = \"nej\"\n",
    "\n",
    "while fortsatt == \"ja\":\n",
    "    stopp = \"nej\"\n",
    "\n",
    "    if sammatabell == \"nej\":\n",
    "        tabell = int(input(\"Vilken gångertabell vill du öva på? Skriv den siffran: \"))\n",
    "\n",
    "    rattsvar = multiplication(tabell)\n",
    "\n",
    "    while stopp == \"nej\":\n",
    "        mittsvar = int(input(f\"Vad blir {tabell} multiplicerat med {y}\"))\n",
    "        if mittsvar != rattsvar:\n",
    "            print(\"Åh nej det blev fel, försök igen!\")\n",
    "            stopp = \"nej\"\n",
    "        else:\n",
    "            print(\"Rätt!\")\n",
    "            stopp = \"ja\"\n",
    "            mittsvar = 0\n",
    "\n",
    "    sammatabell = input(\"Vill du använda samma tabell?\")\n",
    "    if sammatabell == \"ja\":\n",
    "        fortsatt = \"ja\"\n",
    "    else:\n",
    "        fortsatt = input(\"Vill du fortsätta?\")"
   ]
  },
  {
   "cell_type": "code",
   "execution_count": 24,
   "metadata": {},
   "outputs": [
    {
     "output_type": "stream",
     "name": "stdout",
     "text": [
      "Andelen femmor är 0.1654\n"
     ]
    }
   ],
   "source": [
    "# Uppgift 7\n",
    "\n",
    "import random\n",
    "\n",
    "totalt = 0\n",
    "\n",
    "for i in range(10000):\n",
    "   tärning = random.randint(1,6)\n",
    "   if tärning == 5:\n",
    "       totalt += 1\n",
    "\n",
    "andel = totalt/10000\n",
    "\n",
    "print(f\"Andelen femmor är {andel}\")\n",
    "    "
   ]
  },
  {
   "cell_type": "code",
   "execution_count": 55,
   "metadata": {
    "tags": []
   },
   "outputs": [
    {
     "output_type": "stream",
     "name": "stdout",
     "text": [
      "7 st tusenlappar, 1 st femhundralappar, 0 st tvåhundralappar, 0 st hundralappar, 3 st tjugolappar, 0 st tiokroner, 0 st femkroner, 3 st enkroner, "
     ]
    }
   ],
   "source": [
    "# Uppgift 8\n",
    "\n",
    "def växla(summa):\n",
    "    pengar = [1000, 500, 200, 100, 20, 10, 5, 1]\n",
    "    kontant = [\"tusenlappar\", \"femhundralappar\", \"tvåhundralappar\", \"hundralappar\", \"tjugolappar\", \"tiokroner\", \"femkroner\", \"enkroner\"]\n",
    "\n",
    "    for i in range(len(pengar)):\n",
    "        antal = summa // pengar[i]\n",
    "        summa %= pengar[i]\n",
    "        print(f\"{antal} st {kontant[i]}\", end=\", \")\n",
    "      \n",
    "växla(7563)\n"
   ]
  },
  {
   "cell_type": "code",
   "execution_count": 3,
   "metadata": {},
   "outputs": [
    {
     "output_type": "stream",
     "name": "stdout",
     "text": [
      "          1   \n        1   1   \n      1   2   1   \n    1   3   3   1   \n  1   4   6   4   1   \n1   5   10  10  5   1   \n"
     ]
    }
   ],
   "source": [
    "# Uppgift 9\n",
    "\n",
    "n = int(input(\"Skriv de tal du vill ska vara n:\"))\n",
    "\n",
    "lista1 = []\n",
    "for i in range(n):\n",
    "    lista2 = []\n",
    "    for j in range(i+1):\n",
    "        if j == 0 or j == i:\n",
    "            lista2.append(1)\n",
    "        else:\n",
    "            lista2.append(lista1[i-1][j-1] + lista1[i-1][j])\n",
    "    lista1.append(lista2)\n",
    "\n",
    "for i in range(n):\n",
    "    for j in range(n-i-1):\n",
    "        print(format(\" \",\"<2\"), end=\"\")\n",
    "    for j in range(i+1):\n",
    "        print(format(lista1[i][j], \"<3\"), end = \" \")\n",
    "    print()"
   ]
  },
  {
   "cell_type": "code",
   "execution_count": 6,
   "metadata": {},
   "outputs": [
    {
     "output_type": "stream",
     "name": "stdout",
     "text": [
      "1\n"
     ]
    }
   ],
   "source": [
    "# Uppgift 10\n",
    "\n",
    "import random\n",
    "\n",
    "kort = [1, 2, 3, 4, 5]\n",
    "\n",
    "print(kort[0])\n"
   ]
  },
  {
   "cell_type": "code",
   "execution_count": null,
   "metadata": {},
   "outputs": [],
   "source": []
  }
 ]
}